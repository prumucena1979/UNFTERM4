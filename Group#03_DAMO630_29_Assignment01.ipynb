{
 "cells": [
  {
   "metadata": {},
   "cell_type": "markdown",
   "source": "# DAMO-630-29 Assignment 01",
   "id": "6e2240ab32a6e0ad"
  },
  {
   "metadata": {
    "ExecuteTime": {
     "end_time": "2025-10-10T19:25:43.691954Z",
     "start_time": "2025-10-10T19:25:43.681556Z"
    }
   },
   "cell_type": "code",
   "source": [
    "# Imports\n",
    "import numpy as np\n",
    "import pandas as pd\n",
    "import matplotlib.pyplot as plt\n",
    "import seaborn as sns\n",
    "from sklearn.metrics import f1_score, accuracy_score, roc_auc_score\n",
    "from sklearn.metrics import r2_score, mean_absolute_error\n",
    "from sklearn.ensemble import RandomForestClassifier, RandomForestRegressor\n",
    "\n",
    "from sdv.metadata import Metadata\n",
    "from sdv.single_table import GaussianCopulaSynthesizer, CTGANSynthesizer\n",
    "from sdmetrics.reports.single_table import QualityReport, DiagnosticReport"
   ],
   "id": "6d3a3284bc7b44c7",
   "outputs": [],
   "execution_count": 2
  },
  {
   "metadata": {},
   "cell_type": "markdown",
   "source": "## BUSINESS CHALLENGE #01",
   "id": "98dd376483fb7d38"
  },
  {
   "metadata": {},
   "cell_type": "markdown",
   "source": "# TASK I - Exploratory Data Analysis",
   "id": "18ce40fcce8e19af"
  },
  {
   "metadata": {},
   "cell_type": "markdown",
   "source": "The EDA offers an initial overview of the dataset by inspecting its structure, detecting missing values or outliers, and applying descriptive statistics with visualizations. These insights provide the foundation for subsequent synthetic data generation and evaluation.",
   "id": "b406cbe8bf4da914"
  },
  {
   "metadata": {
    "ExecuteTime": {
     "end_time": "2025-10-10T19:25:43.754645Z",
     "start_time": "2025-10-10T19:25:43.721809Z"
    }
   },
   "cell_type": "code",
   "source": [
    "# 1.1. load dataset\n",
    "df = pd.read_csv(\"Datasets\\HealthInsurance.csv\")  # adjust file name as needed"
   ],
   "id": "ee00ac61e09c056d",
   "outputs": [],
   "execution_count": 3
  },
  {
   "metadata": {
    "ExecuteTime": {
     "end_time": "2025-10-10T19:25:43.768650Z",
     "start_time": "2025-10-10T19:25:43.762340Z"
    }
   },
   "cell_type": "code",
   "source": [
    "# 1.2. Shape\n",
    "print(\"Shape:\", df.shape)"
   ],
   "id": "fa048ae0b60f5cbd",
   "outputs": [
    {
     "name": "stdout",
     "output_type": "stream",
     "text": [
      "Shape: (8802, 12)\n"
     ]
    }
   ],
   "execution_count": 4
  },
  {
   "metadata": {
    "ExecuteTime": {
     "end_time": "2025-10-10T19:25:43.805350Z",
     "start_time": "2025-10-10T19:25:43.776817Z"
    }
   },
   "cell_type": "code",
   "source": [
    "# 1.3. Preview\n",
    "display(df.head())"
   ],
   "id": "f75f5f50056ce7f5",
   "outputs": [
    {
     "data": {
      "text/plain": [
       "   rownames health  age limit  gender insurance married selfemp  family  \\\n",
       "0         1    yes   31    no    male       yes     yes     yes       4   \n",
       "1         2    yes   31    no  female       yes     yes      no       4   \n",
       "2         3    yes   54    no    male       yes     yes      no       5   \n",
       "3         4    yes   27    no    male       yes      no      no       5   \n",
       "4         5    yes   39    no    male       yes     yes      no       5   \n",
       "\n",
       "  region ethnicity   education  \n",
       "0  south      cauc    bachelor  \n",
       "1  south      cauc  highschool  \n",
       "2   west      cauc         ged  \n",
       "3   west      cauc  highschool  \n",
       "4   west      cauc        none  "
      ],
      "text/html": [
       "<div>\n",
       "<style scoped>\n",
       "    .dataframe tbody tr th:only-of-type {\n",
       "        vertical-align: middle;\n",
       "    }\n",
       "\n",
       "    .dataframe tbody tr th {\n",
       "        vertical-align: top;\n",
       "    }\n",
       "\n",
       "    .dataframe thead th {\n",
       "        text-align: right;\n",
       "    }\n",
       "</style>\n",
       "<table border=\"1\" class=\"dataframe\">\n",
       "  <thead>\n",
       "    <tr style=\"text-align: right;\">\n",
       "      <th></th>\n",
       "      <th>rownames</th>\n",
       "      <th>health</th>\n",
       "      <th>age</th>\n",
       "      <th>limit</th>\n",
       "      <th>gender</th>\n",
       "      <th>insurance</th>\n",
       "      <th>married</th>\n",
       "      <th>selfemp</th>\n",
       "      <th>family</th>\n",
       "      <th>region</th>\n",
       "      <th>ethnicity</th>\n",
       "      <th>education</th>\n",
       "    </tr>\n",
       "  </thead>\n",
       "  <tbody>\n",
       "    <tr>\n",
       "      <th>0</th>\n",
       "      <td>1</td>\n",
       "      <td>yes</td>\n",
       "      <td>31</td>\n",
       "      <td>no</td>\n",
       "      <td>male</td>\n",
       "      <td>yes</td>\n",
       "      <td>yes</td>\n",
       "      <td>yes</td>\n",
       "      <td>4</td>\n",
       "      <td>south</td>\n",
       "      <td>cauc</td>\n",
       "      <td>bachelor</td>\n",
       "    </tr>\n",
       "    <tr>\n",
       "      <th>1</th>\n",
       "      <td>2</td>\n",
       "      <td>yes</td>\n",
       "      <td>31</td>\n",
       "      <td>no</td>\n",
       "      <td>female</td>\n",
       "      <td>yes</td>\n",
       "      <td>yes</td>\n",
       "      <td>no</td>\n",
       "      <td>4</td>\n",
       "      <td>south</td>\n",
       "      <td>cauc</td>\n",
       "      <td>highschool</td>\n",
       "    </tr>\n",
       "    <tr>\n",
       "      <th>2</th>\n",
       "      <td>3</td>\n",
       "      <td>yes</td>\n",
       "      <td>54</td>\n",
       "      <td>no</td>\n",
       "      <td>male</td>\n",
       "      <td>yes</td>\n",
       "      <td>yes</td>\n",
       "      <td>no</td>\n",
       "      <td>5</td>\n",
       "      <td>west</td>\n",
       "      <td>cauc</td>\n",
       "      <td>ged</td>\n",
       "    </tr>\n",
       "    <tr>\n",
       "      <th>3</th>\n",
       "      <td>4</td>\n",
       "      <td>yes</td>\n",
       "      <td>27</td>\n",
       "      <td>no</td>\n",
       "      <td>male</td>\n",
       "      <td>yes</td>\n",
       "      <td>no</td>\n",
       "      <td>no</td>\n",
       "      <td>5</td>\n",
       "      <td>west</td>\n",
       "      <td>cauc</td>\n",
       "      <td>highschool</td>\n",
       "    </tr>\n",
       "    <tr>\n",
       "      <th>4</th>\n",
       "      <td>5</td>\n",
       "      <td>yes</td>\n",
       "      <td>39</td>\n",
       "      <td>no</td>\n",
       "      <td>male</td>\n",
       "      <td>yes</td>\n",
       "      <td>yes</td>\n",
       "      <td>no</td>\n",
       "      <td>5</td>\n",
       "      <td>west</td>\n",
       "      <td>cauc</td>\n",
       "      <td>none</td>\n",
       "    </tr>\n",
       "  </tbody>\n",
       "</table>\n",
       "</div>"
      ]
     },
     "metadata": {},
     "output_type": "display_data",
     "jetTransient": {
      "display_id": null
     }
    }
   ],
   "execution_count": 5
  },
  {
   "metadata": {
    "ExecuteTime": {
     "end_time": "2025-10-10T19:25:43.847273Z",
     "start_time": "2025-10-10T19:25:43.817949Z"
    }
   },
   "cell_type": "code",
   "source": [
    "# 1.4. Info\n",
    "df.info()"
   ],
   "id": "277a5209e603e514",
   "outputs": [
    {
     "name": "stdout",
     "output_type": "stream",
     "text": [
      "<class 'pandas.core.frame.DataFrame'>\n",
      "RangeIndex: 8802 entries, 0 to 8801\n",
      "Data columns (total 12 columns):\n",
      " #   Column     Non-Null Count  Dtype \n",
      "---  ------     --------------  ----- \n",
      " 0   rownames   8802 non-null   int64 \n",
      " 1   health     8802 non-null   object\n",
      " 2   age        8802 non-null   int64 \n",
      " 3   limit      8802 non-null   object\n",
      " 4   gender     8802 non-null   object\n",
      " 5   insurance  8802 non-null   object\n",
      " 6   married    8802 non-null   object\n",
      " 7   selfemp    8802 non-null   object\n",
      " 8   family     8802 non-null   int64 \n",
      " 9   region     8802 non-null   object\n",
      " 10  ethnicity  8802 non-null   object\n",
      " 11  education  8802 non-null   object\n",
      "dtypes: int64(3), object(9)\n",
      "memory usage: 825.3+ KB\n"
     ]
    }
   ],
   "execution_count": 6
  },
  {
   "metadata": {
    "ExecuteTime": {
     "end_time": "2025-10-10T19:25:43.884060Z",
     "start_time": "2025-10-10T19:25:43.862609Z"
    }
   },
   "cell_type": "code",
   "source": [
    "# 1.5. Descriptive statistics\n",
    "display(df.describe())"
   ],
   "id": "8b7b17d77ea8c1b8",
   "outputs": [
    {
     "data": {
      "text/plain": [
       "          rownames          age       family\n",
       "count  8802.000000  8802.000000  8802.000000\n",
       "mean   4401.500000    38.936833     3.093501\n",
       "std    2541.062868    11.110823     1.559633\n",
       "min       1.000000    18.000000     1.000000\n",
       "25%    2201.250000    30.000000     2.000000\n",
       "50%    4401.500000    39.000000     3.000000\n",
       "75%    6601.750000    48.000000     4.000000\n",
       "max    8802.000000    62.000000    14.000000"
      ],
      "text/html": [
       "<div>\n",
       "<style scoped>\n",
       "    .dataframe tbody tr th:only-of-type {\n",
       "        vertical-align: middle;\n",
       "    }\n",
       "\n",
       "    .dataframe tbody tr th {\n",
       "        vertical-align: top;\n",
       "    }\n",
       "\n",
       "    .dataframe thead th {\n",
       "        text-align: right;\n",
       "    }\n",
       "</style>\n",
       "<table border=\"1\" class=\"dataframe\">\n",
       "  <thead>\n",
       "    <tr style=\"text-align: right;\">\n",
       "      <th></th>\n",
       "      <th>rownames</th>\n",
       "      <th>age</th>\n",
       "      <th>family</th>\n",
       "    </tr>\n",
       "  </thead>\n",
       "  <tbody>\n",
       "    <tr>\n",
       "      <th>count</th>\n",
       "      <td>8802.000000</td>\n",
       "      <td>8802.000000</td>\n",
       "      <td>8802.000000</td>\n",
       "    </tr>\n",
       "    <tr>\n",
       "      <th>mean</th>\n",
       "      <td>4401.500000</td>\n",
       "      <td>38.936833</td>\n",
       "      <td>3.093501</td>\n",
       "    </tr>\n",
       "    <tr>\n",
       "      <th>std</th>\n",
       "      <td>2541.062868</td>\n",
       "      <td>11.110823</td>\n",
       "      <td>1.559633</td>\n",
       "    </tr>\n",
       "    <tr>\n",
       "      <th>min</th>\n",
       "      <td>1.000000</td>\n",
       "      <td>18.000000</td>\n",
       "      <td>1.000000</td>\n",
       "    </tr>\n",
       "    <tr>\n",
       "      <th>25%</th>\n",
       "      <td>2201.250000</td>\n",
       "      <td>30.000000</td>\n",
       "      <td>2.000000</td>\n",
       "    </tr>\n",
       "    <tr>\n",
       "      <th>50%</th>\n",
       "      <td>4401.500000</td>\n",
       "      <td>39.000000</td>\n",
       "      <td>3.000000</td>\n",
       "    </tr>\n",
       "    <tr>\n",
       "      <th>75%</th>\n",
       "      <td>6601.750000</td>\n",
       "      <td>48.000000</td>\n",
       "      <td>4.000000</td>\n",
       "    </tr>\n",
       "    <tr>\n",
       "      <th>max</th>\n",
       "      <td>8802.000000</td>\n",
       "      <td>62.000000</td>\n",
       "      <td>14.000000</td>\n",
       "    </tr>\n",
       "  </tbody>\n",
       "</table>\n",
       "</div>"
      ]
     },
     "metadata": {},
     "output_type": "display_data",
     "jetTransient": {
      "display_id": null
     }
    }
   ],
   "execution_count": 7
  },
  {
   "metadata": {
    "ExecuteTime": {
     "end_time": "2025-10-10T19:25:44.351078Z",
     "start_time": "2025-10-10T19:25:43.897369Z"
    }
   },
   "cell_type": "code",
   "source": [
    "# 1.6. Missing values\n",
    "print(df.isnull().sum())\n",
    "\n",
    "# 1.7. Distribution plots (example numeric columns)\n",
    "for col in df.select_dtypes(include=np.number).columns[:3]:\n",
    "    plt.hist(df[col].dropna(), bins=30)\n",
    "    plt.title(f\"Distribution: {col}\")\n",
    "    plt.show()"
   ],
   "id": "ae2222606906543b",
   "outputs": [
    {
     "name": "stdout",
     "output_type": "stream",
     "text": [
      "rownames     0\n",
      "health       0\n",
      "age          0\n",
      "limit        0\n",
      "gender       0\n",
      "insurance    0\n",
      "married      0\n",
      "selfemp      0\n",
      "family       0\n",
      "region       0\n",
      "ethnicity    0\n",
      "education    0\n",
      "dtype: int64\n"
     ]
    },
    {
     "data": {
      "text/plain": [
       "<Figure size 640x480 with 1 Axes>"
      ],
      "image/png": "[encoded data removed]"
     },
     "metadata": {},
     "output_type": "display_data",
     "jetTransient": {
      "display_id": null
     }
    },
    {
     "data": {
      "text/plain": [
       "<Figure size 640x480 with 1 Axes>"
      ],
      "image/png": "[encoded data removed]"
     },
     "metadata": {},
     "output_type": "display_data",
     "jetTransient": {
      "display_id": null
     }
    },
    {
     "data": {
      "text/plain": [
       "<Figure size 640x480 with 1 Axes>"
      ],
      "image/png": "[encoded data removed]"
     },
     "metadata": {},
     "output_type": "display_data",
     "jetTransient": {
      "display_id": null
     }
    }
   ],
   "execution_count": 8
  },
  {
   "metadata": {},
   "cell_type": "markdown",
   "source": "# Task II — Baseline Synthetic Data",
   "id": "379d9c0d8d705b92"
  },
  {
   "metadata": {
    "ExecuteTime": {
     "end_time": "2025-10-10T19:25:44.388790Z",
     "start_time": "2025-10-10T19:25:44.365702Z"
    }
   },
   "cell_type": "code",
   "source": [
    "# 2.1 Random noise baseline\n",
    "synthetic_baseline = pd.DataFrame(\n",
    "    np.random.randn(df.shape[0], df.shape[1]),\n",
    "    columns=df.columns\n",
    ")\n",
    "display(synthetic_baseline.head())"
   ],
   "id": "81e59090984128fb",
   "outputs": [
    {
     "data": {
      "text/plain": [
       "   rownames    health       age     limit    gender  insurance   married  \\\n",
       "0  0.630057  0.827503 -0.045768  0.081721 -1.343235  -0.912519 -1.040953   \n",
       "1  1.104413 -0.096961 -1.409344  0.302305  0.366294  -0.022432  1.454605   \n",
       "2 -0.056460  1.117921  0.432683 -1.254627 -1.336646  -0.535486 -0.597260   \n",
       "3  2.003659 -1.067483  1.156021 -0.488883 -1.439160  -0.186931  1.782542   \n",
       "4  0.617698 -0.715620 -0.433071  0.662798 -0.011046  -0.443538 -2.434723   \n",
       "\n",
       "    selfemp    family    region  ethnicity  education  \n",
       "0  1.698231 -0.037190 -1.075166  -0.351867   0.589365  \n",
       "1  2.275556  1.092292  0.063952   0.268515  -0.569639  \n",
       "2 -0.124471  0.035849 -1.527702  -0.740304  -0.283435  \n",
       "3  0.581280  0.814212  0.091027   0.494258   0.973689  \n",
       "4  1.222431 -0.002762 -1.866315   1.618151  -1.031235  "
      ],
      "text/html": [
       "<div>\n",
       "<style scoped>\n",
       "    .dataframe tbody tr th:only-of-type {\n",
       "        vertical-align: middle;\n",
       "    }\n",
       "\n",
       "    .dataframe tbody tr th {\n",
       "        vertical-align: top;\n",
       "    }\n",
       "\n",
       "    .dataframe thead th {\n",
       "        text-align: right;\n",
       "    }\n",
       "</style>\n",
       "<table border=\"1\" class=\"dataframe\">\n",
       "  <thead>\n",
       "    <tr style=\"text-align: right;\">\n",
       "      <th></th>\n",
       "      <th>rownames</th>\n",
       "      <th>health</th>\n",
       "      <th>age</th>\n",
       "      <th>limit</th>\n",
       "      <th>gender</th>\n",
       "      <th>insurance</th>\n",
       "      <th>married</th>\n",
       "      <th>selfemp</th>\n",
       "      <th>family</th>\n",
       "      <th>region</th>\n",
       "      <th>ethnicity</th>\n",
       "      <th>education</th>\n",
       "    </tr>\n",
       "  </thead>\n",
       "  <tbody>\n",
       "    <tr>\n",
       "      <th>0</th>\n",
       "      <td>0.630057</td>\n",
       "      <td>0.827503</td>\n",
       "      <td>-0.045768</td>\n",
       "      <td>0.081721</td>\n",
       "      <td>-1.343235</td>\n",
       "      <td>-0.912519</td>\n",
       "      <td>-1.040953</td>\n",
       "      <td>1.698231</td>\n",
       "      <td>-0.037190</td>\n",
       "      <td>-1.075166</td>\n",
       "      <td>-0.351867</td>\n",
       "      <td>0.589365</td>\n",
       "    </tr>\n",
       "    <tr>\n",
       "      <th>1</th>\n",
       "      <td>1.104413</td>\n",
       "      <td>-0.096961</td>\n",
       "      <td>-1.409344</td>\n",
       "      <td>0.302305</td>\n",
       "      <td>0.366294</td>\n",
       "      <td>-0.022432</td>\n",
       "      <td>1.454605</td>\n",
       "      <td>2.275556</td>\n",
       "      <td>1.092292</td>\n",
       "      <td>0.063952</td>\n",
       "      <td>0.268515</td>\n",
       "      <td>-0.569639</td>\n",
       "    </tr>\n",
       "    <tr>\n",
       "      <th>2</th>\n",
       "      <td>-0.056460</td>\n",
       "      <td>1.117921</td>\n",
       "      <td>0.432683</td>\n",
       "      <td>-1.254627</td>\n",
       "      <td>-1.336646</td>\n",
       "      <td>-0.535486</td>\n",
       "      <td>-0.597260</td>\n",
       "      <td>-0.124471</td>\n",
       "      <td>0.035849</td>\n",
       "      <td>-1.527702</td>\n",
       "      <td>-0.740304</td>\n",
       "      <td>-0.283435</td>\n",
       "    </tr>\n",
       "    <tr>\n",
       "      <th>3</th>\n",
       "      <td>2.003659</td>\n",
       "      <td>-1.067483</td>\n",
       "      <td>1.156021</td>\n",
       "      <td>-0.488883</td>\n",
       "      <td>-1.439160</td>\n",
       "      <td>-0.186931</td>\n",
       "      <td>1.782542</td>\n",
       "      <td>0.581280</td>\n",
       "      <td>0.814212</td>\n",
       "      <td>0.091027</td>\n",
       "      <td>0.494258</td>\n",
       "      <td>0.973689</td>\n",
       "    </tr>\n",
       "    <tr>\n",
       "      <th>4</th>\n",
       "      <td>0.617698</td>\n",
       "      <td>-0.715620</td>\n",
       "      <td>-0.433071</td>\n",
       "      <td>0.662798</td>\n",
       "      <td>-0.011046</td>\n",
       "      <td>-0.443538</td>\n",
       "      <td>-2.434723</td>\n",
       "      <td>1.222431</td>\n",
       "      <td>-0.002762</td>\n",
       "      <td>-1.866315</td>\n",
       "      <td>1.618151</td>\n",
       "      <td>-1.031235</td>\n",
       "    </tr>\n",
       "  </tbody>\n",
       "</table>\n",
       "</div>"
      ]
     },
     "metadata": {},
     "output_type": "display_data",
     "jetTransient": {
      "display_id": null
     }
    }
   ],
   "execution_count": 9
  },
  {
   "metadata": {},
   "cell_type": "markdown",
   "source": "# Task III — Advanced Synthetic Data (SDV)",
   "id": "b23ec337b8fbcc1e"
  },
  {
   "metadata": {
    "ExecuteTime": {
     "end_time": "2025-10-10T19:25:44.434061Z",
     "start_time": "2025-10-10T19:25:44.399303Z"
    }
   },
   "cell_type": "code",
   "source": [
    "# 3.1 Infer table metadata (types, constraints, relations)\n",
    "metadata = Metadata.detect_from_dataframe(data=df, table_name=\"my_table\")"
   ],
   "id": "b85f14455dabf55",
   "outputs": [],
   "execution_count": 10
  },
  {
   "metadata": {
    "ExecuteTime": {
     "end_time": "2025-10-10T19:25:49.203276Z",
     "start_time": "2025-10-10T19:25:44.438080Z"
    }
   },
   "cell_type": "code",
   "source": [
    "# 3.2 GaussianCopula\n",
    "gc = GaussianCopulaSynthesizer(metadata)\n",
    "gc.fit(df)\n",
    "synthetic_gc = gc.sample(num_rows=len(df))\n",
    "display(synthetic_gc.head())"
   ],
   "id": "495d0099240801bc",
   "outputs": [
    {
     "name": "stderr",
     "output_type": "stream",
     "text": [
      "C:\\Users\\fabio\\PycharmProjects\\UNFTERM4\\.venv\\Lib\\site-packages\\sdv\\single_table\\base.py:134: UserWarning: We strongly recommend saving the metadata using 'save_to_json' for replicability in future SDV versions.\n",
      "  warnings.warn(\n"
     ]
    },
    {
     "data": {
      "text/plain": [
       "   rownames health  age limit  gender insurance married selfemp  family  \\\n",
       "0  11478456    yes   42    no    male       yes     yes      no       3   \n",
       "1   5376530    yes   21    no  female        no      no      no       2   \n",
       "2   3720715    yes   22    no    male        no      no      no       3   \n",
       "3  13670850    yes   56    no  female       yes      no      no       2   \n",
       "4   7487644    yes   47    no  female       yes      no      no       3   \n",
       "\n",
       "    region ethnicity   education  \n",
       "0     west      cauc  highschool  \n",
       "1     west      cauc  highschool  \n",
       "2    south      afam  highschool  \n",
       "3  midwest      cauc  highschool  \n",
       "4    south      cauc  highschool  "
      ],
      "text/html": [
       "<div>\n",
       "<style scoped>\n",
       "    .dataframe tbody tr th:only-of-type {\n",
       "        vertical-align: middle;\n",
       "    }\n",
       "\n",
       "    .dataframe tbody tr th {\n",
       "        vertical-align: top;\n",
       "    }\n",
       "\n",
       "    .dataframe thead th {\n",
       "        text-align: right;\n",
       "    }\n",
       "</style>\n",
       "<table border=\"1\" class=\"dataframe\">\n",
       "  <thead>\n",
       "    <tr style=\"text-align: right;\">\n",
       "      <th></th>\n",
       "      <th>rownames</th>\n",
       "      <th>health</th>\n",
       "      <th>age</th>\n",
       "      <th>limit</th>\n",
       "      <th>gender</th>\n",
       "      <th>insurance</th>\n",
       "      <th>married</th>\n",
       "      <th>selfemp</th>\n",
       "      <th>family</th>\n",
       "      <th>region</th>\n",
       "      <th>ethnicity</th>\n",
       "      <th>education</th>\n",
       "    </tr>\n",
       "  </thead>\n",
       "  <tbody>\n",
       "    <tr>\n",
       "      <th>0</th>\n",
       "      <td>11478456</td>\n",
       "      <td>yes</td>\n",
       "      <td>42</td>\n",
       "      <td>no</td>\n",
       "      <td>male</td>\n",
       "      <td>yes</td>\n",
       "      <td>yes</td>\n",
       "      <td>no</td>\n",
       "      <td>3</td>\n",
       "      <td>west</td>\n",
       "      <td>cauc</td>\n",
       "      <td>highschool</td>\n",
       "    </tr>\n",
       "    <tr>\n",
       "      <th>1</th>\n",
       "      <td>5376530</td>\n",
       "      <td>yes</td>\n",
       "      <td>21</td>\n",
       "      <td>no</td>\n",
       "      <td>female</td>\n",
       "      <td>no</td>\n",
       "      <td>no</td>\n",
       "      <td>no</td>\n",
       "      <td>2</td>\n",
       "      <td>west</td>\n",
       "      <td>cauc</td>\n",
       "      <td>highschool</td>\n",
       "    </tr>\n",
       "    <tr>\n",
       "      <th>2</th>\n",
       "      <td>3720715</td>\n",
       "      <td>yes</td>\n",
       "      <td>22</td>\n",
       "      <td>no</td>\n",
       "      <td>male</td>\n",
       "      <td>no</td>\n",
       "      <td>no</td>\n",
       "      <td>no</td>\n",
       "      <td>3</td>\n",
       "      <td>south</td>\n",
       "      <td>afam</td>\n",
       "      <td>highschool</td>\n",
       "    </tr>\n",
       "    <tr>\n",
       "      <th>3</th>\n",
       "      <td>13670850</td>\n",
       "      <td>yes</td>\n",
       "      <td>56</td>\n",
       "      <td>no</td>\n",
       "      <td>female</td>\n",
       "      <td>yes</td>\n",
       "      <td>no</td>\n",
       "      <td>no</td>\n",
       "      <td>2</td>\n",
       "      <td>midwest</td>\n",
       "      <td>cauc</td>\n",
       "      <td>highschool</td>\n",
       "    </tr>\n",
       "    <tr>\n",
       "      <th>4</th>\n",
       "      <td>7487644</td>\n",
       "      <td>yes</td>\n",
       "      <td>47</td>\n",
       "      <td>no</td>\n",
       "      <td>female</td>\n",
       "      <td>yes</td>\n",
       "      <td>no</td>\n",
       "      <td>no</td>\n",
       "      <td>3</td>\n",
       "      <td>south</td>\n",
       "      <td>cauc</td>\n",
       "      <td>highschool</td>\n",
       "    </tr>\n",
       "  </tbody>\n",
       "</table>\n",
       "</div>"
      ]
     },
     "metadata": {},
     "output_type": "display_data",
     "jetTransient": {
      "display_id": null
     }
    }
   ],
   "execution_count": 11
  },
  {
   "metadata": {
    "jupyter": {
     "is_executing": true
    },
    "ExecuteTime": {
     "start_time": "2025-10-10T19:25:49.214782Z"
    }
   },
   "cell_type": "code",
   "source": [
    "# 3.3 CTGAN\n",
    "ctgan = CTGANSynthesizer(metadata, epochs=200, batch_size=100, verbose=True)\n",
    "ctgan.fit(df)\n",
    "synthetic_ctgan = ctgan.sample(num_rows=len(df))\n",
    "display(synthetic_ctgan.head())"
   ],
   "id": "5275938f8c308c5d",
   "outputs": [
    {
     "name": "stderr",
     "output_type": "stream",
     "text": [
      "Gen. (-2.56) | Discrim. (-0.29):  13%|█▎        | 26/200 [00:53<05:35,  1.93s/it]"
     ]
    }
   ],
   "execution_count": null
  },
  {
   "metadata": {},
   "cell_type": "markdown",
   "source": "# Task IV — Evaluation",
   "id": "7127908b2020ea31"
  },
  {
   "metadata": {},
   "cell_type": "markdown",
   "source": "Convert metadata for sdmetrics (single table)",
   "id": "deba1594641e8aa1"
  },
  {
   "metadata": {},
   "cell_type": "code",
   "source": [
    "# Convert metadata for sdmetrics (single table)\n",
    "_meta_dict = metadata.to_dict()\n",
    "if \"tables\" in _meta_dict:\n",
    "    _table_name = next(iter(_meta_dict[\"tables\"].keys()))\n",
    "    single_table_meta = _meta_dict[\"tables\"][_table_name]\n",
    "else:\n",
    "    single_table_meta = _meta_dict"
   ],
   "id": "a6c5fe92d237003",
   "outputs": [],
   "execution_count": null
  },
  {
   "metadata": {},
   "cell_type": "code",
   "source": [
    "# 4.1 Quality and Diagnostics\n",
    "qr_gc = QualityReport(); qr_gc.generate(df, synthetic_gc, single_table_meta)\n",
    "qr_ct = QualityReport(); qr_ct.generate(df, synthetic_ctgan, single_table_meta)\n",
    "\n",
    "print(\"Quality — GC:\", qr_gc.get_score())\n",
    "print(\"Quality — CTGAN:\", qr_ct.get_score())\n",
    "\n",
    "dr_gc = DiagnosticReport(); dr_gc.generate(df, synthetic_gc, single_table_meta)\n",
    "dr_ct = DiagnosticReport(); dr_ct.generate(df, synthetic_ctgan, single_table_meta)"
   ],
   "id": "c68b4698d7883e51",
   "outputs": [],
   "execution_count": null
  },
  {
   "metadata": {},
   "cell_type": "code",
   "source": [
    "# 4.2 Correlation Preservation\n",
    "def corr_rmse(a, b):\n",
    "    cols = a.select_dtypes(include=np.number).columns.intersection(\n",
    "        b.select_dtypes(include=np.number).columns\n",
    "    )\n",
    "    if len(cols) < 2:\n",
    "        return np.nan\n",
    "    ca, cb = a[cols].corr(), b[cols].corr()\n",
    "    mask = np.triu(np.ones_like(ca, dtype=bool), k=1)\n",
    "    diff = (ca - cb).where(mask)\n",
    "    vals = diff.values[~np.isnan(diff.values)]\n",
    "    return np.sqrt(np.mean(vals**2)) if len(vals) else np.nan\n",
    "\n",
    "print(\"Correlation RMSE — GC:\", corr_rmse(df, synthetic_gc))\n",
    "print(\"Correlation RMSE — CTGAN:\", corr_rmse(df, synthetic_ctgan))"
   ],
   "id": "e2d0adea4fa68a92",
   "outputs": [],
   "execution_count": null
  },
  {
   "metadata": {},
   "cell_type": "code",
   "source": [
    "# 4.3 Utility — TSTR (Train on Synthetic, Test on Real)\n",
    "def tstr_classification(real_df, synth_df, target):\n",
    "    Xs, ys = synth_df.drop(columns=[target]), synth_df[target]\n",
    "    Xr, yr = real_df.drop(columns=[target]), real_df[target]\n",
    "    Xs = Xs.select_dtypes(include=np.number).fillna(Xs.median(numeric_only=True))\n",
    "    Xr = Xr.select_dtypes(include=np.number).fillna(Xr.median(numeric_only=True))\n",
    "    clf = RandomForestClassifier(n_estimators=300, random_state=42)\n",
    "    clf.fit(Xs, ys)\n",
    "    pred = clf.predict(Xr)\n",
    "    out = {\n",
    "        \"accuracy\": accuracy_score(yr, pred),\n",
    "        \"f1_macro\": f1_score(yr, pred, average=\"macro\")\n",
    "    }\n",
    "    if len(clf.classes_) == 2:\n",
    "        out[\"roc_auc\"] = roc_auc_score(yr, clf.predict_proba(Xr)[:, 1])\n",
    "    return out\n",
    "\n",
    "def tstr_regression(real_df, synth_df, target):\n",
    "    Xs, ys = synth_df.drop(columns=[target]), synth_df[target]\n",
    "    Xr, yr = real_df.drop(columns=[target]), real_df[target]\n",
    "    Xs = Xs.select_dtypes(include=np.number).fillna(Xs.median(numeric_only=True))\n",
    "    Xr = Xr.select_dtypes(include=np.number).fillna(Xr.median(numeric_only=True))\n",
    "    reg = RandomForestRegressor(n_estimators=400, random_state=42)\n",
    "    reg.fit(Xs, ys)\n",
    "    pred = reg.predict(Xr)\n",
    "    return {\"r2\": r2_score(yr, pred), \"mae\": mean_absolute_error(yr, pred)}\n",
    "\n",
    "# Example (uncomment and set target column)\n",
    "# print(tstr_classification(df, synthetic_gc, \"your_target\"))\n",
    "# print(tstr_classification(df, synthetic_ctgan, \"your_target\"))"
   ],
   "id": "9058a0079984a087",
   "outputs": [],
   "execution_count": null
  },
  {
   "metadata": {},
   "cell_type": "code",
   "source": [
    "# 4.4 Privacy — exact duplicates\n",
    "def exact_dup_rate(real_df, synth_df):\n",
    "    r = real_df.astype(str).agg(\"|\".join, axis=1)\n",
    "    s = synth_df.astype(str).agg(\"|\".join, axis=1)\n",
    "    return len(set(r) & set(s)) / max(1, len(s))\n",
    "\n",
    "print(\"Duplication rate — GC:\", exact_dup_rate(df, synthetic_gc))\n",
    "print(\"Duplication rate — CTGAN:\", exact_dup_rate(df, synthetic_ctgan))"
   ],
   "id": "7b1267ea70b2094d",
   "outputs": [],
   "execution_count": null
  },
  {
   "metadata": {},
   "cell_type": "markdown",
   "source": "## BUSINESS CHALLENGE #02",
   "id": "4a0bfb488a223ba1"
  },
  {
   "metadata": {},
   "cell_type": "markdown",
   "source": "Preparation",
   "id": "a71f849079bc9c74"
  },
  {
   "metadata": {
    "ExecuteTime": {
     "end_time": "2025-10-14T22:48:36.755278Z",
     "start_time": "2025-10-14T22:48:36.419064Z"
    }
   },
   "cell_type": "code",
   "source": [
    "import os, subprocess, sys\n",
    "\n",
    "# 1) Point to your Temurin JDK 17 install (adjust if your folder name differs)\n",
    "os.environ[\"JAVA_HOME\"] = r\"C:\\Program Files\\Eclipse Adoptium\\jdk-17\"\n",
    "os.environ[\"PATH\"] = os.environ[\"JAVA_HOME\"] + r\"\\bin;\" + os.environ[\"PATH\"]\n",
    "\n",
    "# 2) Quick check: Java visible to this kernel?\n",
    "try:\n",
    "    out = subprocess.check_output([\"java\", \"-version\"], stderr=subprocess.STDOUT)\n",
    "    print(out.decode(\"utf-8\"))\n",
    "except Exception as e:\n",
    "    print(\"Java not visible to the kernel:\", e)\n",
    "\n",
    "# 3) (Optional) Confirm PySpark version\n",
    "try:\n",
    "    import pyspark\n",
    "    print(\"PySpark:\", pyspark.__version__)\n",
    "except Exception as e:\n",
    "    print(\"PySpark not importable:\", e, \"\\nTip: pip install -U 'pyspark>=3.5,<4.0'\")\n"
   ],
   "id": "fe5790f6096c8728",
   "outputs": [
    {
     "name": "stdout",
     "output_type": "stream",
     "text": [
      "openjdk version \"17.0.16\" 2025-07-15\r\n",
      "OpenJDK Runtime Environment Temurin-17.0.16+8 (build 17.0.16+8)\r\n",
      "OpenJDK 64-Bit Server VM Temurin-17.0.16+8 (build 17.0.16+8, mixed mode, sharing)\r\n",
      "\n",
      "PySpark: 3.5.7\n"
     ]
    }
   ],
   "execution_count": 1
  },
  {
   "metadata": {},
   "cell_type": "markdown",
   "source": "Create SparkSession",
   "id": "3d3787af1341790d"
  },
  {
   "metadata": {},
   "cell_type": "code",
   "source": [
    "# =========================\n",
    "# BC2 — Setup (PySpark)\n",
    "# ========================="
   ],
   "id": "a3ecd59bf94fe1b7",
   "outputs": [],
   "execution_count": null
  },
  {
   "metadata": {},
   "cell_type": "markdown",
   "source": "Load parquet file - dataset",
   "id": "ecb6eefe4838fba5"
  }
 ],
 "metadata": {
  "kernelspec": {
   "display_name": "Python 3",
   "language": "python",
   "name": "python3"
  },
  "language_info": {
   "codemirror_mode": {
    "name": "ipython",
    "version": 2
   },
   "file_extension": ".py",
   "mimetype": "text/x-python",
   "name": "python",
   "nbconvert_exporter": "python",
   "pygments_lexer": "ipython2",
   "version": "2.7.6"
  }
 },
 "nbformat": 4,
 "nbformat_minor": 5
}
