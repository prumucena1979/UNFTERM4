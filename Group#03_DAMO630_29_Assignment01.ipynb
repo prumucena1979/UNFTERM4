{
 "cells": [
  {
   "cell_type": "markdown",
   "id": "6e2240ab32a6e0ad",
   "metadata": {},
   "source": [
    "# DAMO-630-29 Assignment 01"
   ]
  },
  {
   "cell_type": "code",
   "execution_count": null,
   "id": "0c4a07dc",
   "metadata": {},
   "outputs": [],
   "source": [
    "# pip install scikit-learn pandas numpy matplotlib seaborn sdv \n",
    "#attention "
   ]
  },
  {
   "cell_type": "code",
   "execution_count": 10,
   "id": "6d3a3284bc7b44c7",
   "metadata": {
    "ExecuteTime": {
     "end_time": "2025-10-10T19:25:43.691954Z",
     "start_time": "2025-10-10T19:25:43.681556Z"
    }
   },
   "outputs": [],
   "source": [
    "# Imports\n",
    "import numpy as np\n",
    "import pandas as pd\n",
    "import matplotlib.pyplot as plt\n",
    "import seaborn as sns\n",
    "from sklearn.metrics import f1_score, accuracy_score, roc_auc_score\n",
    "from sklearn.metrics import r2_score, mean_absolute_error\n",
    "from sklearn.ensemble import RandomForestClassifier, RandomForestRegressor\n",
    "\n",
    "from sdv.metadata import Metadata\n",
    "from sdv.single_table import GaussianCopulaSynthesizer, CTGANSynthesizer\n",
    "from sdmetrics.reports.single_table import QualityReport, DiagnosticReport"
   ]
  },
  {
   "cell_type": "markdown",
   "id": "98dd376483fb7d38",
   "metadata": {},
   "source": [
    "## BUSINESS CHALLENGE #01"
   ]
  },
  {
   "cell_type": "markdown",
   "id": "18ce40fcce8e19af",
   "metadata": {},
   "source": [
    "# TASK I - Exploratory Data Analysis"
   ]
  },
  {
   "cell_type": "markdown",
   "id": "b406cbe8bf4da914",
   "metadata": {},
   "source": [
    "The EDA offers an initial overview of the dataset by inspecting its structure, detecting missing values or outliers, and applying descriptive statistics with visualizations. These insights provide the foundation for subsequent synthetic data generation and evaluation."
   ]
  },
  {
   "cell_type": "code",
   "execution_count": 11,
   "id": "ee00ac61e09c056d",
   "metadata": {
    "ExecuteTime": {
     "end_time": "2025-10-10T19:25:43.754645Z",
     "start_time": "2025-10-10T19:25:43.721809Z"
    }
   },
   "outputs": [],
   "source": [
    "# 1.1. load dataset\n",
    "df = pd.read_csv(\"Datasets\\HealthInsurance.csv\")  # adjust file name as needed"
   ]
  },
  {
   "cell_type": "code",
   "execution_count": 12,
   "id": "fa048ae0b60f5cbd",
   "metadata": {
    "ExecuteTime": {
     "end_time": "2025-10-10T19:25:43.768650Z",
     "start_time": "2025-10-10T19:25:43.762340Z"
    }
   },
   "outputs": [
    {
     "name": "stdout",
     "output_type": "stream",
     "text": [
      "Shape: (8802, 12)\n"
     ]
    }
   ],
   "source": [
    "# 1.2. Shape\n",
    "print(\"Shape:\", df.shape)"
   ]
  },
  {
   "cell_type": "code",
   "execution_count": 13,
   "id": "f75f5f50056ce7f5",
   "metadata": {
    "ExecuteTime": {
     "end_time": "2025-10-10T19:25:43.805350Z",
     "start_time": "2025-10-10T19:25:43.776817Z"
    }
   },
   "outputs": [
    {
     "data": {
      "text/html": [
       "<div>\n",
       "<style scoped>\n",
       "    .dataframe tbody tr th:only-of-type {\n",
       "        vertical-align: middle;\n",
       "    }\n",
       "\n",
       "    .dataframe tbody tr th {\n",
       "        vertical-align: top;\n",
       "    }\n",
       "\n",
       "    .dataframe thead th {\n",
       "        text-align: right;\n",
       "    }\n",
       "</style>\n",
       "<table border=\"1\" class=\"dataframe\">\n",
       "  <thead>\n",
       "    <tr style=\"text-align: right;\">\n",
       "      <th></th>\n",
       "      <th>rownames</th>\n",
       "      <th>health</th>\n",
       "      <th>age</th>\n",
       "      <th>limit</th>\n",
       "      <th>gender</th>\n",
       "      <th>insurance</th>\n",
       "      <th>married</th>\n",
       "      <th>selfemp</th>\n",
       "      <th>family</th>\n",
       "      <th>region</th>\n",
       "      <th>ethnicity</th>\n",
       "      <th>education</th>\n",
       "    </tr>\n",
       "  </thead>\n",
       "  <tbody>\n",
       "    <tr>\n",
       "      <th>0</th>\n",
       "      <td>1</td>\n",
       "      <td>yes</td>\n",
       "      <td>31</td>\n",
       "      <td>no</td>\n",
       "      <td>male</td>\n",
       "      <td>yes</td>\n",
       "      <td>yes</td>\n",
       "      <td>yes</td>\n",
       "      <td>4</td>\n",
       "      <td>south</td>\n",
       "      <td>cauc</td>\n",
       "      <td>bachelor</td>\n",
       "    </tr>\n",
       "    <tr>\n",
       "      <th>1</th>\n",
       "      <td>2</td>\n",
       "      <td>yes</td>\n",
       "      <td>31</td>\n",
       "      <td>no</td>\n",
       "      <td>female</td>\n",
       "      <td>yes</td>\n",
       "      <td>yes</td>\n",
       "      <td>no</td>\n",
       "      <td>4</td>\n",
       "      <td>south</td>\n",
       "      <td>cauc</td>\n",
       "      <td>highschool</td>\n",
       "    </tr>\n",
       "    <tr>\n",
       "      <th>2</th>\n",
       "      <td>3</td>\n",
       "      <td>yes</td>\n",
       "      <td>54</td>\n",
       "      <td>no</td>\n",
       "      <td>male</td>\n",
       "      <td>yes</td>\n",
       "      <td>yes</td>\n",
       "      <td>no</td>\n",
       "      <td>5</td>\n",
       "      <td>west</td>\n",
       "      <td>cauc</td>\n",
       "      <td>ged</td>\n",
       "    </tr>\n",
       "    <tr>\n",
       "      <th>3</th>\n",
       "      <td>4</td>\n",
       "      <td>yes</td>\n",
       "      <td>27</td>\n",
       "      <td>no</td>\n",
       "      <td>male</td>\n",
       "      <td>yes</td>\n",
       "      <td>no</td>\n",
       "      <td>no</td>\n",
       "      <td>5</td>\n",
       "      <td>west</td>\n",
       "      <td>cauc</td>\n",
       "      <td>highschool</td>\n",
       "    </tr>\n",
       "    <tr>\n",
       "      <th>4</th>\n",
       "      <td>5</td>\n",
       "      <td>yes</td>\n",
       "      <td>39</td>\n",
       "      <td>no</td>\n",
       "      <td>male</td>\n",
       "      <td>yes</td>\n",
       "      <td>yes</td>\n",
       "      <td>no</td>\n",
       "      <td>5</td>\n",
       "      <td>west</td>\n",
       "      <td>cauc</td>\n",
       "      <td>none</td>\n",
       "    </tr>\n",
       "  </tbody>\n",
       "</table>\n",
       "</div>"
      ],
      "text/plain": [
       "   rownames health  age limit  gender insurance married selfemp  family  \\\n",
       "0         1    yes   31    no    male       yes     yes     yes       4   \n",
       "1         2    yes   31    no  female       yes     yes      no       4   \n",
       "2         3    yes   54    no    male       yes     yes      no       5   \n",
       "3         4    yes   27    no    male       yes      no      no       5   \n",
       "4         5    yes   39    no    male       yes     yes      no       5   \n",
       "\n",
       "  region ethnicity   education  \n",
       "0  south      cauc    bachelor  \n",
       "1  south      cauc  highschool  \n",
       "2   west      cauc         ged  \n",
       "3   west      cauc  highschool  \n",
       "4   west      cauc        none  "
      ]
     },
     "metadata": {},
     "output_type": "display_data"
    }
   ],
   "source": [
    "# 1.3. Preview\n",
    "display(df.head())"
   ]
  },
  {
   "cell_type": "code",
   "execution_count": 14,
   "id": "277a5209e603e514",
   "metadata": {
    "ExecuteTime": {
     "end_time": "2025-10-10T19:25:43.847273Z",
     "start_time": "2025-10-10T19:25:43.817949Z"
    }
   },
   "outputs": [
    {
     "name": "stdout",
     "output_type": "stream",
     "text": [
      "<class 'pandas.core.frame.DataFrame'>\n",
      "RangeIndex: 8802 entries, 0 to 8801\n",
      "Data columns (total 12 columns):\n",
      " #   Column     Non-Null Count  Dtype \n",
      "---  ------     --------------  ----- \n",
      " 0   rownames   8802 non-null   int64 \n",
      " 1   health     8802 non-null   object\n",
      " 2   age        8802 non-null   int64 \n",
      " 3   limit      8802 non-null   object\n",
      " 4   gender     8802 non-null   object\n",
      " 5   insurance  8802 non-null   object\n",
      " 6   married    8802 non-null   object\n",
      " 7   selfemp    8802 non-null   object\n",
      " 8   family     8802 non-null   int64 \n",
      " 9   region     8802 non-null   object\n",
      " 10  ethnicity  8802 non-null   object\n",
      " 11  education  8802 non-null   object\n",
      "dtypes: int64(3), object(9)\n",
      "memory usage: 825.3+ KB\n"
     ]
    }
   ],
   "source": [
    "# 1.4. Info\n",
    "df.info()"
   ]
  },
  {
   "cell_type": "code",
   "execution_count": 15,
   "id": "8b7b17d77ea8c1b8",
   "metadata": {
    "ExecuteTime": {
     "end_time": "2025-10-10T19:25:43.884060Z",
     "start_time": "2025-10-10T19:25:43.862609Z"
    }
   },
   "outputs": [
    {
     "data": {
      "text/html": [
       "<div>\n",
       "<style scoped>\n",
       "    .dataframe tbody tr th:only-of-type {\n",
       "        vertical-align: middle;\n",
       "    }\n",
       "\n",
       "    .dataframe tbody tr th {\n",
       "        vertical-align: top;\n",
       "    }\n",
       "\n",
       "    .dataframe thead th {\n",
       "        text-align: right;\n",
       "    }\n",
       "</style>\n",
       "<table border=\"1\" class=\"dataframe\">\n",
       "  <thead>\n",
       "    <tr style=\"text-align: right;\">\n",
       "      <th></th>\n",
       "      <th>rownames</th>\n",
       "      <th>age</th>\n",
       "      <th>family</th>\n",
       "    </tr>\n",
       "  </thead>\n",
       "  <tbody>\n",
       "    <tr>\n",
       "      <th>count</th>\n",
       "      <td>8802.000000</td>\n",
       "      <td>8802.000000</td>\n",
       "      <td>8802.000000</td>\n",
       "    </tr>\n",
       "    <tr>\n",
       "      <th>mean</th>\n",
       "      <td>4401.500000</td>\n",
       "      <td>38.936833</td>\n",
       "      <td>3.093501</td>\n",
       "    </tr>\n",
       "    <tr>\n",
       "      <th>std</th>\n",
       "      <td>2541.062868</td>\n",
       "      <td>11.110823</td>\n",
       "      <td>1.559633</td>\n",
       "    </tr>\n",
       "    <tr>\n",
       "      <th>min</th>\n",
       "      <td>1.000000</td>\n",
       "      <td>18.000000</td>\n",
       "      <td>1.000000</td>\n",
       "    </tr>\n",
       "    <tr>\n",
       "      <th>25%</th>\n",
       "      <td>2201.250000</td>\n",
       "      <td>30.000000</td>\n",
       "      <td>2.000000</td>\n",
       "    </tr>\n",
       "    <tr>\n",
       "      <th>50%</th>\n",
       "      <td>4401.500000</td>\n",
       "      <td>39.000000</td>\n",
       "      <td>3.000000</td>\n",
       "    </tr>\n",
       "    <tr>\n",
       "      <th>75%</th>\n",
       "      <td>6601.750000</td>\n",
       "      <td>48.000000</td>\n",
       "      <td>4.000000</td>\n",
       "    </tr>\n",
       "    <tr>\n",
       "      <th>max</th>\n",
       "      <td>8802.000000</td>\n",
       "      <td>62.000000</td>\n",
       "      <td>14.000000</td>\n",
       "    </tr>\n",
       "  </tbody>\n",
       "</table>\n",
       "</div>"
      ],
      "text/plain": [
       "          rownames          age       family\n",
       "count  8802.000000  8802.000000  8802.000000\n",
       "mean   4401.500000    38.936833     3.093501\n",
       "std    2541.062868    11.110823     1.559633\n",
       "min       1.000000    18.000000     1.000000\n",
       "25%    2201.250000    30.000000     2.000000\n",
       "50%    4401.500000    39.000000     3.000000\n",
       "75%    6601.750000    48.000000     4.000000\n",
       "max    8802.000000    62.000000    14.000000"
      ]
     },
     "metadata": {},
     "output_type": "display_data"
    }
   ],
   "source": [
    "# 1.5. Descriptive statistics\n",
    "display(df.describe())"
   ]
  },
  {
   "cell_type": "code",
   "execution_count": 16,
   "id": "ae2222606906543b",
   "metadata": {
    "ExecuteTime": {
     "end_time": "2025-10-10T19:25:44.351078Z",
     "start_time": "2025-10-10T19:25:43.897369Z"
    }
   },
   "outputs": [
    {
     "name": "stdout",
     "output_type": "stream",
     "text": [
      "rownames     0\n",
      "health       0\n",
      "age          0\n",
      "limit        0\n",
      "gender       0\n",
      "insurance    0\n",
      "married      0\n",
      "selfemp      0\n",
      "family       0\n",
      "region       0\n",
      "ethnicity    0\n",
      "education    0\n",
      "dtype: int64\n"
     ]
    },
    {
     "data": {
      "image/png": "[encoded data removed]",
      "text/plain": [
       "<Figure size 640x480 with 1 Axes>"
      ]
     },
     "metadata": {},
     "output_type": "display_data"
    },
    {
     "data": {
      "image/png": "[encoded data removed]",
      "text/plain": [
       "<Figure size 640x480 with 1 Axes>"
      ]
     },
     "metadata": {},
     "output_type": "display_data"
    },
    {
     "data": {
      "image/png": "[encoded data removed]",
      "text/plain": [
       "<Figure size 640x480 with 1 Axes>"
      ]
     },
     "metadata": {},
     "output_type": "display_data"
    }
   ],
   "source": [
    "# 1.6. Missing values\n",
    "print(df.isnull().sum())\n",
    "\n",
    "# 1.7. Distribution plots (example numeric columns)\n",
    "for col in df.select_dtypes(include=np.number).columns[:3]:\n",
    "    plt.hist(df[col].dropna(), bins=30)\n",
    "    plt.title(f\"Distribution: {col}\")\n",
    "    plt.show()"
   ]
  },
  {
   "cell_type": "markdown",
   "id": "379d9c0d8d705b92",
   "metadata": {},
   "source": [
    "# Task II — Baseline Synthetic Data"
   ]
  },
  {
   "cell_type": "code",
   "execution_count": 17,
   "id": "81e59090984128fb",
   "metadata": {
    "ExecuteTime": {
     "end_time": "2025-10-10T19:25:44.388790Z",
     "start_time": "2025-10-10T19:25:44.365702Z"
    }
   },
   "outputs": [
    {
     "data": {
      "text/html": [
       "<div>\n",
       "<style scoped>\n",
       "    .dataframe tbody tr th:only-of-type {\n",
       "        vertical-align: middle;\n",
       "    }\n",
       "\n",
       "    .dataframe tbody tr th {\n",
       "        vertical-align: top;\n",
       "    }\n",
       "\n",
       "    .dataframe thead th {\n",
       "        text-align: right;\n",
       "    }\n",
       "</style>\n",
       "<table border=\"1\" class=\"dataframe\">\n",
       "  <thead>\n",
       "    <tr style=\"text-align: right;\">\n",
       "      <th></th>\n",
       "      <th>rownames</th>\n",
       "      <th>health</th>\n",
       "      <th>age</th>\n",
       "      <th>limit</th>\n",
       "      <th>gender</th>\n",
       "      <th>insurance</th>\n",
       "      <th>married</th>\n",
       "      <th>selfemp</th>\n",
       "      <th>family</th>\n",
       "      <th>region</th>\n",
       "      <th>ethnicity</th>\n",
       "      <th>education</th>\n",
       "    </tr>\n",
       "  </thead>\n",
       "  <tbody>\n",
       "    <tr>\n",
       "      <th>0</th>\n",
       "      <td>-1.410944</td>\n",
       "      <td>-0.174852</td>\n",
       "      <td>-0.666419</td>\n",
       "      <td>1.382618</td>\n",
       "      <td>1.375929</td>\n",
       "      <td>0.903102</td>\n",
       "      <td>-1.104936</td>\n",
       "      <td>-0.261296</td>\n",
       "      <td>-0.645184</td>\n",
       "      <td>-1.935487</td>\n",
       "      <td>0.005092</td>\n",
       "      <td>0.769520</td>\n",
       "    </tr>\n",
       "    <tr>\n",
       "      <th>1</th>\n",
       "      <td>0.020480</td>\n",
       "      <td>0.609222</td>\n",
       "      <td>0.877403</td>\n",
       "      <td>0.118700</td>\n",
       "      <td>0.437906</td>\n",
       "      <td>-1.361082</td>\n",
       "      <td>-1.070655</td>\n",
       "      <td>-1.146840</td>\n",
       "      <td>-1.466224</td>\n",
       "      <td>-0.282841</td>\n",
       "      <td>-0.168436</td>\n",
       "      <td>-1.183551</td>\n",
       "    </tr>\n",
       "    <tr>\n",
       "      <th>2</th>\n",
       "      <td>-1.235821</td>\n",
       "      <td>1.054278</td>\n",
       "      <td>0.477211</td>\n",
       "      <td>-0.686341</td>\n",
       "      <td>1.101477</td>\n",
       "      <td>0.299139</td>\n",
       "      <td>0.767382</td>\n",
       "      <td>0.199246</td>\n",
       "      <td>-1.066116</td>\n",
       "      <td>-1.099593</td>\n",
       "      <td>0.425539</td>\n",
       "      <td>0.675797</td>\n",
       "    </tr>\n",
       "    <tr>\n",
       "      <th>3</th>\n",
       "      <td>0.375148</td>\n",
       "      <td>-0.314344</td>\n",
       "      <td>0.112591</td>\n",
       "      <td>0.416892</td>\n",
       "      <td>-1.281737</td>\n",
       "      <td>-0.457004</td>\n",
       "      <td>-0.585793</td>\n",
       "      <td>0.796957</td>\n",
       "      <td>0.213464</td>\n",
       "      <td>-0.155312</td>\n",
       "      <td>0.205570</td>\n",
       "      <td>0.471002</td>\n",
       "    </tr>\n",
       "    <tr>\n",
       "      <th>4</th>\n",
       "      <td>-0.258426</td>\n",
       "      <td>-0.205357</td>\n",
       "      <td>-0.334094</td>\n",
       "      <td>0.278128</td>\n",
       "      <td>-0.844653</td>\n",
       "      <td>-0.624996</td>\n",
       "      <td>0.162215</td>\n",
       "      <td>-1.246600</td>\n",
       "      <td>-0.032018</td>\n",
       "      <td>1.042536</td>\n",
       "      <td>-0.209747</td>\n",
       "      <td>1.300796</td>\n",
       "    </tr>\n",
       "  </tbody>\n",
       "</table>\n",
       "</div>"
      ],
      "text/plain": [
       "   rownames    health       age     limit    gender  insurance   married  \\\n",
       "0 -1.410944 -0.174852 -0.666419  1.382618  1.375929   0.903102 -1.104936   \n",
       "1  0.020480  0.609222  0.877403  0.118700  0.437906  -1.361082 -1.070655   \n",
       "2 -1.235821  1.054278  0.477211 -0.686341  1.101477   0.299139  0.767382   \n",
       "3  0.375148 -0.314344  0.112591  0.416892 -1.281737  -0.457004 -0.585793   \n",
       "4 -0.258426 -0.205357 -0.334094  0.278128 -0.844653  -0.624996  0.162215   \n",
       "\n",
       "    selfemp    family    region  ethnicity  education  \n",
       "0 -0.261296 -0.645184 -1.935487   0.005092   0.769520  \n",
       "1 -1.146840 -1.466224 -0.282841  -0.168436  -1.183551  \n",
       "2  0.199246 -1.066116 -1.099593   0.425539   0.675797  \n",
       "3  0.796957  0.213464 -0.155312   0.205570   0.471002  \n",
       "4 -1.246600 -0.032018  1.042536  -0.209747   1.300796  "
      ]
     },
     "metadata": {},
     "output_type": "display_data"
    }
   ],
   "source": [
    "# 2.1 Random noise baseline\n",
    "synthetic_baseline = pd.DataFrame(\n",
    "    np.random.randn(df.shape[0], df.shape[1]),\n",
    "    columns=df.columns\n",
    ")\n",
    "display(synthetic_baseline.head())"
   ]
  },
  {
   "cell_type": "markdown",
   "id": "b23ec337b8fbcc1e",
   "metadata": {},
   "source": [
    "# Task III — Advanced Synthetic Data (SDV)"
   ]
  },
  {
   "cell_type": "code",
   "execution_count": 18,
   "id": "b85f14455dabf55",
   "metadata": {
    "ExecuteTime": {
     "end_time": "2025-10-10T19:25:44.434061Z",
     "start_time": "2025-10-10T19:25:44.399303Z"
    }
   },
   "outputs": [],
   "source": [
    "# 3.1 Infer table metadata (types, constraints, relations)\n",
    "metadata = Metadata.detect_from_dataframe(data=df, table_name=\"my_table\")"
   ]
  },
  {
   "cell_type": "code",
   "execution_count": 19,
   "id": "495d0099240801bc",
   "metadata": {
    "ExecuteTime": {
     "end_time": "2025-10-10T19:25:49.203276Z",
     "start_time": "2025-10-10T19:25:44.438080Z"
    }
   },
   "outputs": [
    {
     "name": "stderr",
     "output_type": "stream",
     "text": [
      "c:\\Users\\fabio\\AppData\\Local\\Programs\\Python\\Python311\\Lib\\site-packages\\sdv\\single_table\\base.py:134: UserWarning: We strongly recommend saving the metadata using 'save_to_json' for replicability in future SDV versions.\n",
      "  warnings.warn(\n"
     ]
    },
    {
     "data": {
      "text/html": [
       "<div>\n",
       "<style scoped>\n",
       "    .dataframe tbody tr th:only-of-type {\n",
       "        vertical-align: middle;\n",
       "    }\n",
       "\n",
       "    .dataframe tbody tr th {\n",
       "        vertical-align: top;\n",
       "    }\n",
       "\n",
       "    .dataframe thead th {\n",
       "        text-align: right;\n",
       "    }\n",
       "</style>\n",
       "<table border=\"1\" class=\"dataframe\">\n",
       "  <thead>\n",
       "    <tr style=\"text-align: right;\">\n",
       "      <th></th>\n",
       "      <th>rownames</th>\n",
       "      <th>health</th>\n",
       "      <th>age</th>\n",
       "      <th>limit</th>\n",
       "      <th>gender</th>\n",
       "      <th>insurance</th>\n",
       "      <th>married</th>\n",
       "      <th>selfemp</th>\n",
       "      <th>family</th>\n",
       "      <th>region</th>\n",
       "      <th>ethnicity</th>\n",
       "      <th>education</th>\n",
       "    </tr>\n",
       "  </thead>\n",
       "  <tbody>\n",
       "    <tr>\n",
       "      <th>0</th>\n",
       "      <td>11478456</td>\n",
       "      <td>yes</td>\n",
       "      <td>42</td>\n",
       "      <td>no</td>\n",
       "      <td>male</td>\n",
       "      <td>yes</td>\n",
       "      <td>yes</td>\n",
       "      <td>no</td>\n",
       "      <td>3</td>\n",
       "      <td>west</td>\n",
       "      <td>cauc</td>\n",
       "      <td>highschool</td>\n",
       "    </tr>\n",
       "    <tr>\n",
       "      <th>1</th>\n",
       "      <td>5376530</td>\n",
       "      <td>yes</td>\n",
       "      <td>21</td>\n",
       "      <td>no</td>\n",
       "      <td>female</td>\n",
       "      <td>no</td>\n",
       "      <td>no</td>\n",
       "      <td>no</td>\n",
       "      <td>2</td>\n",
       "      <td>west</td>\n",
       "      <td>cauc</td>\n",
       "      <td>highschool</td>\n",
       "    </tr>\n",
       "    <tr>\n",
       "      <th>2</th>\n",
       "      <td>3720715</td>\n",
       "      <td>yes</td>\n",
       "      <td>22</td>\n",
       "      <td>no</td>\n",
       "      <td>male</td>\n",
       "      <td>no</td>\n",
       "      <td>no</td>\n",
       "      <td>no</td>\n",
       "      <td>3</td>\n",
       "      <td>south</td>\n",
       "      <td>afam</td>\n",
       "      <td>highschool</td>\n",
       "    </tr>\n",
       "    <tr>\n",
       "      <th>3</th>\n",
       "      <td>13670850</td>\n",
       "      <td>yes</td>\n",
       "      <td>56</td>\n",
       "      <td>no</td>\n",
       "      <td>female</td>\n",
       "      <td>yes</td>\n",
       "      <td>no</td>\n",
       "      <td>no</td>\n",
       "      <td>2</td>\n",
       "      <td>midwest</td>\n",
       "      <td>cauc</td>\n",
       "      <td>highschool</td>\n",
       "    </tr>\n",
       "    <tr>\n",
       "      <th>4</th>\n",
       "      <td>7487644</td>\n",
       "      <td>yes</td>\n",
       "      <td>47</td>\n",
       "      <td>no</td>\n",
       "      <td>female</td>\n",
       "      <td>yes</td>\n",
       "      <td>no</td>\n",
       "      <td>no</td>\n",
       "      <td>3</td>\n",
       "      <td>south</td>\n",
       "      <td>cauc</td>\n",
       "      <td>highschool</td>\n",
       "    </tr>\n",
       "  </tbody>\n",
       "</table>\n",
       "</div>"
      ],
      "text/plain": [
       "   rownames health  age limit  gender insurance married selfemp  family  \\\n",
       "0  11478456    yes   42    no    male       yes     yes      no       3   \n",
       "1   5376530    yes   21    no  female        no      no      no       2   \n",
       "2   3720715    yes   22    no    male        no      no      no       3   \n",
       "3  13670850    yes   56    no  female       yes      no      no       2   \n",
       "4   7487644    yes   47    no  female       yes      no      no       3   \n",
       "\n",
       "    region ethnicity   education  \n",
       "0     west      cauc  highschool  \n",
       "1     west      cauc  highschool  \n",
       "2    south      afam  highschool  \n",
       "3  midwest      cauc  highschool  \n",
       "4    south      cauc  highschool  "
      ]
     },
     "metadata": {},
     "output_type": "display_data"
    }
   ],
   "source": [
    "# 3.2 GaussianCopula\n",
    "gc = GaussianCopulaSynthesizer(metadata)\n",
    "gc.fit(df)\n",
    "synthetic_gc = gc.sample(num_rows=len(df))\n",
    "display(synthetic_gc.head())"
   ]
  },
  {
   "cell_type": "code",
   "execution_count": 20,
   "id": "5275938f8c308c5d",
   "metadata": {
    "ExecuteTime": {
     "start_time": "2025-10-10T19:25:49.214782Z"
    },
    "jupyter": {
     "is_executing": true
    }
   },
   "outputs": [
    {
     "name": "stderr",
     "output_type": "stream",
     "text": [
      "Gen. (-1.51) | Discrim. (-0.11): 100%|██████████| 200/200 [06:06<00:00,  1.83s/it]\n"
     ]
    },
    {
     "data": {
      "text/html": [
       "<div>\n",
       "<style scoped>\n",
       "    .dataframe tbody tr th:only-of-type {\n",
       "        vertical-align: middle;\n",
       "    }\n",
       "\n",
       "    .dataframe tbody tr th {\n",
       "        vertical-align: top;\n",
       "    }\n",
       "\n",
       "    .dataframe thead th {\n",
       "        text-align: right;\n",
       "    }\n",
       "</style>\n",
       "<table border=\"1\" class=\"dataframe\">\n",
       "  <thead>\n",
       "    <tr style=\"text-align: right;\">\n",
       "      <th></th>\n",
       "      <th>rownames</th>\n",
       "      <th>health</th>\n",
       "      <th>age</th>\n",
       "      <th>limit</th>\n",
       "      <th>gender</th>\n",
       "      <th>insurance</th>\n",
       "      <th>married</th>\n",
       "      <th>selfemp</th>\n",
       "      <th>family</th>\n",
       "      <th>region</th>\n",
       "      <th>ethnicity</th>\n",
       "      <th>education</th>\n",
       "    </tr>\n",
       "  </thead>\n",
       "  <tbody>\n",
       "    <tr>\n",
       "      <th>0</th>\n",
       "      <td>11478456</td>\n",
       "      <td>yes</td>\n",
       "      <td>44</td>\n",
       "      <td>no</td>\n",
       "      <td>male</td>\n",
       "      <td>yes</td>\n",
       "      <td>no</td>\n",
       "      <td>no</td>\n",
       "      <td>5</td>\n",
       "      <td>west</td>\n",
       "      <td>cauc</td>\n",
       "      <td>highschool</td>\n",
       "    </tr>\n",
       "    <tr>\n",
       "      <th>1</th>\n",
       "      <td>5376530</td>\n",
       "      <td>yes</td>\n",
       "      <td>58</td>\n",
       "      <td>yes</td>\n",
       "      <td>male</td>\n",
       "      <td>yes</td>\n",
       "      <td>yes</td>\n",
       "      <td>no</td>\n",
       "      <td>2</td>\n",
       "      <td>south</td>\n",
       "      <td>cauc</td>\n",
       "      <td>bachelor</td>\n",
       "    </tr>\n",
       "    <tr>\n",
       "      <th>2</th>\n",
       "      <td>3720715</td>\n",
       "      <td>yes</td>\n",
       "      <td>20</td>\n",
       "      <td>no</td>\n",
       "      <td>female</td>\n",
       "      <td>yes</td>\n",
       "      <td>no</td>\n",
       "      <td>no</td>\n",
       "      <td>1</td>\n",
       "      <td>west</td>\n",
       "      <td>cauc</td>\n",
       "      <td>bachelor</td>\n",
       "    </tr>\n",
       "    <tr>\n",
       "      <th>3</th>\n",
       "      <td>13670850</td>\n",
       "      <td>yes</td>\n",
       "      <td>39</td>\n",
       "      <td>no</td>\n",
       "      <td>male</td>\n",
       "      <td>yes</td>\n",
       "      <td>yes</td>\n",
       "      <td>no</td>\n",
       "      <td>5</td>\n",
       "      <td>south</td>\n",
       "      <td>cauc</td>\n",
       "      <td>bachelor</td>\n",
       "    </tr>\n",
       "    <tr>\n",
       "      <th>4</th>\n",
       "      <td>7487644</td>\n",
       "      <td>yes</td>\n",
       "      <td>37</td>\n",
       "      <td>no</td>\n",
       "      <td>male</td>\n",
       "      <td>yes</td>\n",
       "      <td>yes</td>\n",
       "      <td>yes</td>\n",
       "      <td>3</td>\n",
       "      <td>northeast</td>\n",
       "      <td>cauc</td>\n",
       "      <td>highschool</td>\n",
       "    </tr>\n",
       "  </tbody>\n",
       "</table>\n",
       "</div>"
      ],
      "text/plain": [
       "   rownames health  age limit  gender insurance married selfemp  family  \\\n",
       "0  11478456    yes   44    no    male       yes      no      no       5   \n",
       "1   5376530    yes   58   yes    male       yes     yes      no       2   \n",
       "2   3720715    yes   20    no  female       yes      no      no       1   \n",
       "3  13670850    yes   39    no    male       yes     yes      no       5   \n",
       "4   7487644    yes   37    no    male       yes     yes     yes       3   \n",
       "\n",
       "      region ethnicity   education  \n",
       "0       west      cauc  highschool  \n",
       "1      south      cauc    bachelor  \n",
       "2       west      cauc    bachelor  \n",
       "3      south      cauc    bachelor  \n",
       "4  northeast      cauc  highschool  "
      ]
     },
     "metadata": {},
     "output_type": "display_data"
    }
   ],
   "source": [
    "# 3.3 CTGAN\n",
    "ctgan = CTGANSynthesizer(metadata, epochs=200, batch_size=100, verbose=True)\n",
    "ctgan.fit(df)\n",
    "synthetic_ctgan = ctgan.sample(num_rows=len(df))\n",
    "display(synthetic_ctgan.head())"
   ]
  },
  {
   "cell_type": "markdown",
   "id": "7127908b2020ea31",
   "metadata": {},
   "source": [
    "# Task IV — Evaluation"
   ]
  },
  {
   "cell_type": "markdown",
   "id": "deba1594641e8aa1",
   "metadata": {},
   "source": [
    "Convert metadata for sdmetrics (single table)"
   ]
  },
  {
   "cell_type": "code",
   "execution_count": 21,
   "id": "a6c5fe92d237003",
   "metadata": {},
   "outputs": [],
   "source": [
    "# Convert metadata for sdmetrics (single table)\n",
    "_meta_dict = metadata.to_dict()\n",
    "if \"tables\" in _meta_dict:\n",
    "    _table_name = next(iter(_meta_dict[\"tables\"].keys()))\n",
    "    single_table_meta = _meta_dict[\"tables\"][_table_name]\n",
    "else:\n",
    "    single_table_meta = _meta_dict"
   ]
  },
  {
   "cell_type": "code",
   "execution_count": 22,
   "id": "c68b4698d7883e51",
   "metadata": {},
   "outputs": [
    {
     "name": "stdout",
     "output_type": "stream",
     "text": [
      "Generating report ...\n",
      "\n",
      "(1/2) Evaluating Column Shapes: |██████████| 12/12 [00:00<00:00, 370.73it/s]|\n",
      "Column Shapes Score: 97.49%\n",
      "\n",
      "(2/2) Evaluating Column Pair Trends: |██████████| 66/66 [00:00<00:00, 239.18it/s]|\n",
      "Column Pair Trends Score: 94.18%\n",
      "\n",
      "Overall Score (Average): 95.83%\n",
      "\n",
      "Generating report ...\n",
      "\n",
      "(1/2) Evaluating Column Shapes: |██████████| 12/12 [00:00<00:00, 346.06it/s]|\n",
      "Column Shapes Score: 92.13%\n",
      "\n",
      "(2/2) Evaluating Column Pair Trends: |██████████| 66/66 [00:00<00:00, 239.75it/s]|\n",
      "Column Pair Trends Score: 83.51%\n",
      "\n",
      "Overall Score (Average): 87.82%\n",
      "\n",
      "Quality — GC: 0.9583293302618436\n",
      "Quality — CTGAN: 0.8782233040691603\n",
      "Generating report ...\n",
      "\n",
      "(1/2) Evaluating Data Validity: |██████████| 12/12 [00:00<00:00, 894.31it/s]|\n",
      "Data Validity Score: 100.0%\n",
      "\n",
      "(2/2) Evaluating Data Structure: |██████████| 1/1 [00:00<00:00, 160.63it/s]|\n",
      "Data Structure Score: 100.0%\n",
      "\n",
      "Overall Score (Average): 100.0%\n",
      "\n",
      "Generating report ...\n",
      "\n",
      "(1/2) Evaluating Data Validity: |██████████| 12/12 [00:00<00:00, 2092.44it/s]|\n",
      "Data Validity Score: 100.0%\n",
      "\n",
      "(2/2) Evaluating Data Structure: |██████████| 1/1 [00:00<00:00, 84.60it/s]|\n",
      "Data Structure Score: 100.0%\n",
      "\n",
      "Overall Score (Average): 100.0%\n",
      "\n"
     ]
    }
   ],
   "source": [
    "# 4.1 Quality and Diagnostics\n",
    "qr_gc = QualityReport(); qr_gc.generate(df, synthetic_gc, single_table_meta)\n",
    "qr_ct = QualityReport(); qr_ct.generate(df, synthetic_ctgan, single_table_meta)\n",
    "\n",
    "print(\"Quality — GC:\", qr_gc.get_score())\n",
    "print(\"Quality — CTGAN:\", qr_ct.get_score())\n",
    "\n",
    "dr_gc = DiagnosticReport(); dr_gc.generate(df, synthetic_gc, single_table_meta)\n",
    "dr_ct = DiagnosticReport(); dr_ct.generate(df, synthetic_ctgan, single_table_meta)"
   ]
  },
  {
   "cell_type": "code",
   "execution_count": 23,
   "id": "e2d0adea4fa68a92",
   "metadata": {},
   "outputs": [
    {
     "name": "stdout",
     "output_type": "stream",
     "text": [
      "Correlation RMSE — GC: 0.021453851859544158\n",
      "Correlation RMSE — CTGAN: 0.032150326557224364\n"
     ]
    }
   ],
   "source": [
    "# 4.2 Correlation Preservation\n",
    "def corr_rmse(a, b):\n",
    "    cols = a.select_dtypes(include=np.number).columns.intersection(\n",
    "        b.select_dtypes(include=np.number).columns\n",
    "    )\n",
    "    if len(cols) < 2:\n",
    "        return np.nan\n",
    "    ca, cb = a[cols].corr(), b[cols].corr()\n",
    "    mask = np.triu(np.ones_like(ca, dtype=bool), k=1)\n",
    "    diff = (ca - cb).where(mask)\n",
    "    vals = diff.values[~np.isnan(diff.values)]\n",
    "    return np.sqrt(np.mean(vals**2)) if len(vals) else np.nan\n",
    "\n",
    "print(\"Correlation RMSE — GC:\", corr_rmse(df, synthetic_gc))\n",
    "print(\"Correlation RMSE — CTGAN:\", corr_rmse(df, synthetic_ctgan))"
   ]
  },
  {
   "cell_type": "code",
   "execution_count": 25,
   "id": "9058a0079984a087",
   "metadata": {},
   "outputs": [],
   "source": [
    "# 4.3 Utility — TSTR (Train on Synthetic, Test on Real)\n",
    "def tstr_classification(real_df, synth_df, target):\n",
    "    Xs, ys = synth_df.drop(columns=[target]), synth_df[target]\n",
    "    Xr, yr = real_df.drop(columns=[target]), real_df[target]\n",
    "    Xs = Xs.select_dtypes(include=np.number).fillna(Xs.median(numeric_only=True))\n",
    "    Xr = Xr.select_dtypes(include=np.number).fillna(Xr.median(numeric_only=True))\n",
    "    clf = RandomForestClassifier(n_estimators=300, random_state=42)\n",
    "    clf.fit(Xs, ys)\n",
    "    pred = clf.predict(Xr)\n",
    "    out = {\n",
    "        \"accuracy\": accuracy_score(yr, pred),\n",
    "        \"f1_macro\": f1_score(yr, pred, average=\"macro\")\n",
    "    }\n",
    "    if len(clf.classes_) == 2:\n",
    "        out[\"roc_auc\"] = roc_auc_score(yr, clf.predict_proba(Xr)[:, 1])\n",
    "    return out\n",
    "\n",
    "def tstr_regression(real_df, synth_df, target):\n",
    "    Xs, ys = synth_df.drop(columns=[target]), synth_df[target]\n",
    "    Xr, yr = real_df.drop(columns=[target]), real_df[target]\n",
    "    Xs = Xs.select_dtypes(include=np.number).fillna(Xs.median(numeric_only=True))\n",
    "    Xr = Xr.select_dtypes(include=np.number).fillna(Xr.median(numeric_only=True))\n",
    "    reg = RandomForestRegressor(n_estimators=400, random_state=42)\n",
    "    reg.fit(Xs, ys)\n",
    "    pred = reg.predict(Xr)\n",
    "    return {\"r2\": r2_score(yr, pred), \"mae\": mean_absolute_error(yr, pred)}\n",
    "\n",
    "# Example (uncomment and set target column)\n",
    "# print(tstr_classification(df, synthetic_gc, \"your_target\"))\n",
    "# print(tstr_classification(df, synthetic_ctgan, \"your_target\"))"
   ]
  },
  {
   "cell_type": "code",
   "execution_count": 26,
   "id": "7b1267ea70b2094d",
   "metadata": {},
   "outputs": [
    {
     "name": "stdout",
     "output_type": "stream",
     "text": [
      "Duplication rate — GC: 0.0\n",
      "Duplication rate — CTGAN: 0.0\n"
     ]
    }
   ],
   "source": [
    "# 4.4 Privacy — exact duplicates\n",
    "def exact_dup_rate(real_df, synth_df):\n",
    "    r = real_df.astype(str).agg(\"|\".join, axis=1)\n",
    "    s = synth_df.astype(str).agg(\"|\".join, axis=1)\n",
    "    return len(set(r) & set(s)) / max(1, len(s))\n",
    "\n",
    "print(\"Duplication rate — GC:\", exact_dup_rate(df, synthetic_gc))\n",
    "print(\"Duplication rate — CTGAN:\", exact_dup_rate(df, synthetic_ctgan))"
   ]
  },
  {
   "cell_type": "markdown",
   "id": "4a0bfb488a223ba1",
   "metadata": {},
   "source": [
    "## BUSINESS CHALLENGE #02"
   ]
  },
  {
   "cell_type": "markdown",
   "id": "a71f849079bc9c74",
   "metadata": {},
   "source": [
    "Preparation"
   ]
  },
  {
   "cell_type": "markdown",
   "id": "ecb6eefe4838fba5",
   "metadata": {},
   "source": [
    "Load parquet file - dataset"
   ]
  }
 ],
 "metadata": {
  "kernelspec": {
   "display_name": "Python 3",
   "language": "python",
   "name": "python3"
  },
  "language_info": {
   "codemirror_mode": {
    "name": "ipython",
    "version": 3
   },
   "file_extension": ".py",
   "mimetype": "text/x-python",
   "name": "python",
   "nbconvert_exporter": "python",
   "pygments_lexer": "ipython3",
   "version": "3.11.9"
  }
 },
 "nbformat": 4,
 "nbformat_minor": 5
}
