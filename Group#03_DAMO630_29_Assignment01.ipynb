{
 "cells": [
  {
   "cell_type": "markdown",
   "id": "f32c6630",
   "metadata": {},
   "source": [
    "# DAMO-630-29 Assignment 01\n",
    "prublic repository:  https://github.com/prumucena1979/UNFTERM4\n",
    "#Group 03:\n",
    "Oshiro, Renato Hiroyuki\n",
    "Prumucena, Fabio\n",
    "Rohit Kumar, Rohit Kumar\n",
    "Shaikh, Aamena Zakir"
   ]
  },
  {
   "cell_type": "markdown",
   "id": "84720830",
   "metadata": {},
   "source": [
    "#Business Challenge 01"
   ]
  },
  {
   "cell_type": "code",
   "execution_count": 1,
   "id": "4d48839c",
   "metadata": {},
   "outputs": [],
   "source": [
    "# Imports\n",
    "import numpy as np\n",
    "import pandas as pd\n",
    "import matplotlib.pyplot as plt\n",
    "import seaborn as sns\n",
    "from sklearn.metrics import f1_score, accuracy_score, roc_auc_score\n",
    "from sklearn.metrics import r2_score, mean_absolute_error\n",
    "from sklearn.ensemble import RandomForestClassifier, RandomForestRegressor\n",
    "\n",
    "from sdv.metadata import Metadata\n",
    "from sdv.single_table import GaussianCopulaSynthesizer, CTGANSynthesizer\n",
    "from sdmetrics.reports.single_table import QualityReport, DiagnosticReport"
   ]
  },
  {
   "cell_type": "markdown",
   "id": "e7d01d98",
   "metadata": {},
   "source": [
    "# TASK I - Exploratory Data Analysis"
   ]
  },
  {
   "cell_type": "markdown",
   "id": "353e6df2",
   "metadata": {},
   "source": [
    "The EDA offers an initial overview of the dataset by inspecting its structure, detecting missing values or outliers, \n",
    "and applying descriptive statistics with visualizations. These insights provide the foundation for subsequent synthetic data generation and evaluation."
   ]
  },
  {
   "cell_type": "code",
   "execution_count": 2,
   "id": "bde6c8ca",
   "metadata": {},
   "outputs": [],
   "source": [
    "# 1.1. load dataset\n",
    "df = pd.read_csv(\"Datasets/HealthInsurance.csv\")  # file is in the root directory"
   ]
  },
  {
   "cell_type": "code",
   "execution_count": 3,
   "id": "a04c7bba",
   "metadata": {},
   "outputs": [
    {
     "name": "stdout",
     "output_type": "stream",
     "text": [
      "Shape: (8802, 12)\n"
     ]
    }
   ],
   "source": [
    "# 1.2. Shape\n",
    "print(\"Shape:\", df.shape)"
   ]
  },
  {
   "cell_type": "code",
   "execution_count": 4,
   "id": "8527397b",
   "metadata": {},
   "outputs": [
    {
     "data": {
      "text/html": [
       "<div>\n",
       "<style scoped>\n",
       "    .dataframe tbody tr th:only-of-type {\n",
       "        vertical-align: middle;\n",
       "    }\n",
       "\n",
       "    .dataframe tbody tr th {\n",
       "        vertical-align: top;\n",
       "    }\n",
       "\n",
       "    .dataframe thead th {\n",
       "        text-align: right;\n",
       "    }\n",
       "</style>\n",
       "<table border=\"1\" class=\"dataframe\">\n",
       "  <thead>\n",
       "    <tr style=\"text-align: right;\">\n",
       "      <th></th>\n",
       "      <th>rownames</th>\n",
       "      <th>health</th>\n",
       "      <th>age</th>\n",
       "      <th>limit</th>\n",
       "      <th>gender</th>\n",
       "      <th>insurance</th>\n",
       "      <th>married</th>\n",
       "      <th>selfemp</th>\n",
       "      <th>family</th>\n",
       "      <th>region</th>\n",
       "      <th>ethnicity</th>\n",
       "      <th>education</th>\n",
       "    </tr>\n",
       "  </thead>\n",
       "  <tbody>\n",
       "    <tr>\n",
       "      <th>0</th>\n",
       "      <td>1</td>\n",
       "      <td>yes</td>\n",
       "      <td>31</td>\n",
       "      <td>no</td>\n",
       "      <td>male</td>\n",
       "      <td>yes</td>\n",
       "      <td>yes</td>\n",
       "      <td>yes</td>\n",
       "      <td>4</td>\n",
       "      <td>south</td>\n",
       "      <td>cauc</td>\n",
       "      <td>bachelor</td>\n",
       "    </tr>\n",
       "    <tr>\n",
       "      <th>1</th>\n",
       "      <td>2</td>\n",
       "      <td>yes</td>\n",
       "      <td>31</td>\n",
       "      <td>no</td>\n",
       "      <td>female</td>\n",
       "      <td>yes</td>\n",
       "      <td>yes</td>\n",
       "      <td>no</td>\n",
       "      <td>4</td>\n",
       "      <td>south</td>\n",
       "      <td>cauc</td>\n",
       "      <td>highschool</td>\n",
       "    </tr>\n",
       "    <tr>\n",
       "      <th>2</th>\n",
       "      <td>3</td>\n",
       "      <td>yes</td>\n",
       "      <td>54</td>\n",
       "      <td>no</td>\n",
       "      <td>male</td>\n",
       "      <td>yes</td>\n",
       "      <td>yes</td>\n",
       "      <td>no</td>\n",
       "      <td>5</td>\n",
       "      <td>west</td>\n",
       "      <td>cauc</td>\n",
       "      <td>ged</td>\n",
       "    </tr>\n",
       "    <tr>\n",
       "      <th>3</th>\n",
       "      <td>4</td>\n",
       "      <td>yes</td>\n",
       "      <td>27</td>\n",
       "      <td>no</td>\n",
       "      <td>male</td>\n",
       "      <td>yes</td>\n",
       "      <td>no</td>\n",
       "      <td>no</td>\n",
       "      <td>5</td>\n",
       "      <td>west</td>\n",
       "      <td>cauc</td>\n",
       "      <td>highschool</td>\n",
       "    </tr>\n",
       "    <tr>\n",
       "      <th>4</th>\n",
       "      <td>5</td>\n",
       "      <td>yes</td>\n",
       "      <td>39</td>\n",
       "      <td>no</td>\n",
       "      <td>male</td>\n",
       "      <td>yes</td>\n",
       "      <td>yes</td>\n",
       "      <td>no</td>\n",
       "      <td>5</td>\n",
       "      <td>west</td>\n",
       "      <td>cauc</td>\n",
       "      <td>none</td>\n",
       "    </tr>\n",
       "  </tbody>\n",
       "</table>\n",
       "</div>"
      ],
      "text/plain": [
       "   rownames health  age limit  gender insurance married selfemp  family  \\\n",
       "0         1    yes   31    no    male       yes     yes     yes       4   \n",
       "1         2    yes   31    no  female       yes     yes      no       4   \n",
       "2         3    yes   54    no    male       yes     yes      no       5   \n",
       "3         4    yes   27    no    male       yes      no      no       5   \n",
       "4         5    yes   39    no    male       yes     yes      no       5   \n",
       "\n",
       "  region ethnicity   education  \n",
       "0  south      cauc    bachelor  \n",
       "1  south      cauc  highschool  \n",
       "2   west      cauc         ged  \n",
       "3   west      cauc  highschool  \n",
       "4   west      cauc        none  "
      ]
     },
     "metadata": {},
     "output_type": "display_data"
    }
   ],
   "source": [
    "# 1.3. Preview\n",
    "display(df.head())"
   ]
  },
  {
   "cell_type": "code",
   "execution_count": 5,
   "id": "ba9696c5",
   "metadata": {},
   "outputs": [
    {
     "name": "stdout",
     "output_type": "stream",
     "text": [
      "<class 'pandas.core.frame.DataFrame'>\n",
      "RangeIndex: 8802 entries, 0 to 8801\n",
      "Data columns (total 12 columns):\n",
      " #   Column     Non-Null Count  Dtype \n",
      "---  ------     --------------  ----- \n",
      " 0   rownames   8802 non-null   int64 \n",
      " 1   health     8802 non-null   object\n",
      " 2   age        8802 non-null   int64 \n",
      " 3   limit      8802 non-null   object\n",
      " 4   gender     8802 non-null   object\n",
      " 5   insurance  8802 non-null   object\n",
      " 6   married    8802 non-null   object\n",
      " 7   selfemp    8802 non-null   object\n",
      " 8   family     8802 non-null   int64 \n",
      " 9   region     8802 non-null   object\n",
      " 10  ethnicity  8802 non-null   object\n",
      " 11  education  8802 non-null   object\n",
      "dtypes: int64(3), object(9)\n",
      "memory usage: 825.3+ KB\n"
     ]
    }
   ],
   "source": [
    "# 1.4. Info\n",
    "df.info()"
   ]
  },
  {
   "cell_type": "code",
   "execution_count": 6,
   "id": "e53e982a",
   "metadata": {},
   "outputs": [
    {
     "data": {
      "text/html": [
       "<div>\n",
       "<style scoped>\n",
       "    .dataframe tbody tr th:only-of-type {\n",
       "        vertical-align: middle;\n",
       "    }\n",
       "\n",
       "    .dataframe tbody tr th {\n",
       "        vertical-align: top;\n",
       "    }\n",
       "\n",
       "    .dataframe thead th {\n",
       "        text-align: right;\n",
       "    }\n",
       "</style>\n",
       "<table border=\"1\" class=\"dataframe\">\n",
       "  <thead>\n",
       "    <tr style=\"text-align: right;\">\n",
       "      <th></th>\n",
       "      <th>rownames</th>\n",
       "      <th>age</th>\n",
       "      <th>family</th>\n",
       "    </tr>\n",
       "  </thead>\n",
       "  <tbody>\n",
       "    <tr>\n",
       "      <th>count</th>\n",
       "      <td>8802.000000</td>\n",
       "      <td>8802.000000</td>\n",
       "      <td>8802.000000</td>\n",
       "    </tr>\n",
       "    <tr>\n",
       "      <th>mean</th>\n",
       "      <td>4401.500000</td>\n",
       "      <td>38.936833</td>\n",
       "      <td>3.093501</td>\n",
       "    </tr>\n",
       "    <tr>\n",
       "      <th>std</th>\n",
       "      <td>2541.062868</td>\n",
       "      <td>11.110823</td>\n",
       "      <td>1.559633</td>\n",
       "    </tr>\n",
       "    <tr>\n",
       "      <th>min</th>\n",
       "      <td>1.000000</td>\n",
       "      <td>18.000000</td>\n",
       "      <td>1.000000</td>\n",
       "    </tr>\n",
       "    <tr>\n",
       "      <th>25%</th>\n",
       "      <td>2201.250000</td>\n",
       "      <td>30.000000</td>\n",
       "      <td>2.000000</td>\n",
       "    </tr>\n",
       "    <tr>\n",
       "      <th>50%</th>\n",
       "      <td>4401.500000</td>\n",
       "      <td>39.000000</td>\n",
       "      <td>3.000000</td>\n",
       "    </tr>\n",
       "    <tr>\n",
       "      <th>75%</th>\n",
       "      <td>6601.750000</td>\n",
       "      <td>48.000000</td>\n",
       "      <td>4.000000</td>\n",
       "    </tr>\n",
       "    <tr>\n",
       "      <th>max</th>\n",
       "      <td>8802.000000</td>\n",
       "      <td>62.000000</td>\n",
       "      <td>14.000000</td>\n",
       "    </tr>\n",
       "  </tbody>\n",
       "</table>\n",
       "</div>"
      ],
      "text/plain": [
       "          rownames          age       family\n",
       "count  8802.000000  8802.000000  8802.000000\n",
       "mean   4401.500000    38.936833     3.093501\n",
       "std    2541.062868    11.110823     1.559633\n",
       "min       1.000000    18.000000     1.000000\n",
       "25%    2201.250000    30.000000     2.000000\n",
       "50%    4401.500000    39.000000     3.000000\n",
       "75%    6601.750000    48.000000     4.000000\n",
       "max    8802.000000    62.000000    14.000000"
      ]
     },
     "metadata": {},
     "output_type": "display_data"
    }
   ],
   "source": [
    "# 1.5. Descriptive statistics\n",
    "display(df.describe())"
   ]
  },
  {
   "cell_type": "code",
   "execution_count": 7,
   "id": "075d1789",
   "metadata": {},
   "outputs": [
    {
     "name": "stdout",
     "output_type": "stream",
     "text": [
      "rownames     0\n",
      "health       0\n",
      "age          0\n",
      "limit        0\n",
      "gender       0\n",
      "insurance    0\n",
      "married      0\n",
      "selfemp      0\n",
      "family       0\n",
      "region       0\n",
      "ethnicity    0\n",
      "education    0\n",
      "dtype: int64\n"
     ]
    },
    {
     "data": {
      "image/png": "[encoded data removed]",
      "text/plain": [
       "<Figure size 600x400 with 1 Axes>"
      ]
     },
     "metadata": {},
     "output_type": "display_data"
    },
    {
     "data": {
      "image/png": "[encoded data removed]",
      "text/plain": [
       "<Figure size 600x400 with 1 Axes>"
      ]
     },
     "metadata": {},
     "output_type": "display_data"
    },
    {
     "data": {
      "image/png": "[encoded data removed]",
      "text/plain": [
       "<Figure size 600x400 with 1 Axes>"
      ]
     },
     "metadata": {},
     "output_type": "display_data"
    }
   ],
   "source": [
    "# 1.6. Missing values\n",
    "print(df.isnull().sum())\n",
    "\n",
    "# 1.7. Distribution plots (example numeric columns)\n",
    "import matplotlib.pyplot as plt\n",
    "import numpy as np\n",
    "\n",
    "numeric_cols = df.select_dtypes(include=np.number).columns[:3]\n",
    "for col in numeric_cols:\n",
    "    plt.figure(figsize=(6, 4))\n",
    "    plt.hist(df[col].dropna(), bins=30, color='skyblue', edgecolor='black')\n",
    "    plt.title(f\"Distribution: {col}\")\n",
    "    plt.xlabel(col)\n",
    "    plt.ylabel(\"Frequency\")\n",
    "    plt.grid(alpha=0.3)\n",
    "    plt.show()\n"
   ]
  },
  {
   "cell_type": "markdown",
   "id": "60f9cd19",
   "metadata": {},
   "source": [
    "# Task II — Baseline Synthetic Data"
   ]
  },
  {
   "cell_type": "code",
   "execution_count": 8,
   "id": "b0cdbd23",
   "metadata": {},
   "outputs": [
    {
     "data": {
      "text/html": [
       "<div>\n",
       "<style scoped>\n",
       "    .dataframe tbody tr th:only-of-type {\n",
       "        vertical-align: middle;\n",
       "    }\n",
       "\n",
       "    .dataframe tbody tr th {\n",
       "        vertical-align: top;\n",
       "    }\n",
       "\n",
       "    .dataframe thead th {\n",
       "        text-align: right;\n",
       "    }\n",
       "</style>\n",
       "<table border=\"1\" class=\"dataframe\">\n",
       "  <thead>\n",
       "    <tr style=\"text-align: right;\">\n",
       "      <th></th>\n",
       "      <th>rownames</th>\n",
       "      <th>health</th>\n",
       "      <th>age</th>\n",
       "      <th>limit</th>\n",
       "      <th>gender</th>\n",
       "      <th>insurance</th>\n",
       "      <th>married</th>\n",
       "      <th>selfemp</th>\n",
       "      <th>family</th>\n",
       "      <th>region</th>\n",
       "      <th>ethnicity</th>\n",
       "      <th>education</th>\n",
       "    </tr>\n",
       "  </thead>\n",
       "  <tbody>\n",
       "    <tr>\n",
       "      <th>0</th>\n",
       "      <td>1.066622</td>\n",
       "      <td>-1.682335</td>\n",
       "      <td>0.879976</td>\n",
       "      <td>-0.162389</td>\n",
       "      <td>0.599842</td>\n",
       "      <td>-0.300911</td>\n",
       "      <td>-1.947335</td>\n",
       "      <td>0.337412</td>\n",
       "      <td>0.858261</td>\n",
       "      <td>0.185515</td>\n",
       "      <td>-1.211018</td>\n",
       "      <td>1.848128</td>\n",
       "    </tr>\n",
       "    <tr>\n",
       "      <th>1</th>\n",
       "      <td>0.532141</td>\n",
       "      <td>0.528239</td>\n",
       "      <td>0.844530</td>\n",
       "      <td>-0.951568</td>\n",
       "      <td>0.748390</td>\n",
       "      <td>0.113652</td>\n",
       "      <td>0.118547</td>\n",
       "      <td>-1.668715</td>\n",
       "      <td>-0.858101</td>\n",
       "      <td>0.604949</td>\n",
       "      <td>0.751007</td>\n",
       "      <td>0.341841</td>\n",
       "    </tr>\n",
       "    <tr>\n",
       "      <th>2</th>\n",
       "      <td>-0.714232</td>\n",
       "      <td>1.397226</td>\n",
       "      <td>-1.422723</td>\n",
       "      <td>-0.469904</td>\n",
       "      <td>1.003771</td>\n",
       "      <td>-0.801328</td>\n",
       "      <td>-1.351771</td>\n",
       "      <td>-1.413052</td>\n",
       "      <td>-0.389028</td>\n",
       "      <td>1.208144</td>\n",
       "      <td>-2.196506</td>\n",
       "      <td>-1.390342</td>\n",
       "    </tr>\n",
       "    <tr>\n",
       "      <th>3</th>\n",
       "      <td>2.056863</td>\n",
       "      <td>0.042973</td>\n",
       "      <td>0.662631</td>\n",
       "      <td>0.588174</td>\n",
       "      <td>-0.160994</td>\n",
       "      <td>0.837277</td>\n",
       "      <td>-1.143908</td>\n",
       "      <td>1.194091</td>\n",
       "      <td>0.269019</td>\n",
       "      <td>2.019630</td>\n",
       "      <td>-0.476926</td>\n",
       "      <td>-0.468912</td>\n",
       "    </tr>\n",
       "    <tr>\n",
       "      <th>4</th>\n",
       "      <td>-0.153623</td>\n",
       "      <td>0.843265</td>\n",
       "      <td>1.328795</td>\n",
       "      <td>0.365025</td>\n",
       "      <td>0.764539</td>\n",
       "      <td>0.651266</td>\n",
       "      <td>-0.561871</td>\n",
       "      <td>-1.457659</td>\n",
       "      <td>0.409945</td>\n",
       "      <td>1.027028</td>\n",
       "      <td>1.038616</td>\n",
       "      <td>-0.135299</td>\n",
       "    </tr>\n",
       "  </tbody>\n",
       "</table>\n",
       "</div>"
      ],
      "text/plain": [
       "   rownames    health       age     limit    gender  insurance   married  \\\n",
       "0  1.066622 -1.682335  0.879976 -0.162389  0.599842  -0.300911 -1.947335   \n",
       "1  0.532141  0.528239  0.844530 -0.951568  0.748390   0.113652  0.118547   \n",
       "2 -0.714232  1.397226 -1.422723 -0.469904  1.003771  -0.801328 -1.351771   \n",
       "3  2.056863  0.042973  0.662631  0.588174 -0.160994   0.837277 -1.143908   \n",
       "4 -0.153623  0.843265  1.328795  0.365025  0.764539   0.651266 -0.561871   \n",
       "\n",
       "    selfemp    family    region  ethnicity  education  \n",
       "0  0.337412  0.858261  0.185515  -1.211018   1.848128  \n",
       "1 -1.668715 -0.858101  0.604949   0.751007   0.341841  \n",
       "2 -1.413052 -0.389028  1.208144  -2.196506  -1.390342  \n",
       "3  1.194091  0.269019  2.019630  -0.476926  -0.468912  \n",
       "4 -1.457659  0.409945  1.027028   1.038616  -0.135299  "
      ]
     },
     "metadata": {},
     "output_type": "display_data"
    }
   ],
   "source": [
    "# 2.1 Random noise baseline\n",
    "synthetic_baseline = pd.DataFrame(\n",
    "    np.random.randn(df.shape[0], df.shape[1]),\n",
    "    columns=df.columns\n",
    ")\n",
    "display(synthetic_baseline.head())"
   ]
  },
  {
   "cell_type": "markdown",
   "id": "aae05ae0",
   "metadata": {},
   "source": [
    "# Task III — Advanced Synthetic Data (SDV)"
   ]
  },
  {
   "cell_type": "code",
   "execution_count": 9,
   "id": "7fe220a7",
   "metadata": {},
   "outputs": [],
   "source": [
    "# 3.1 Infer table metadata (types, constraints, relations)\n",
    "metadata = Metadata.detect_from_dataframe(data=df, table_name=\"my_table\")"
   ]
  },
  {
   "cell_type": "code",
   "execution_count": 10,
   "id": "5023f354",
   "metadata": {},
   "outputs": [
    {
     "name": "stdout",
     "output_type": "stream",
     "text": [
      "Existing metadata.json found — overwriting it.\n",
      "Metadata saved as metadata.json\n"
     ]
    },
    {
     "name": "stderr",
     "output_type": "stream",
     "text": [
      "c:\\Users\\fabio\\AppData\\Local\\Programs\\Python\\Python311\\Lib\\site-packages\\sdv\\single_table\\base.py:168: FutureWarning: The 'SingleTableMetadata' is deprecated. Please use the new 'Metadata' class for synthesizers.\n",
      "  warnings.warn(DEPRECATION_MSG, FutureWarning)\n"
     ]
    },
    {
     "name": "stdout",
     "output_type": "stream",
     "text": [
      "GaussianCopula model trained successfully!\n"
     ]
    },
    {
     "data": {
      "text/html": [
       "<div>\n",
       "<style scoped>\n",
       "    .dataframe tbody tr th:only-of-type {\n",
       "        vertical-align: middle;\n",
       "    }\n",
       "\n",
       "    .dataframe tbody tr th {\n",
       "        vertical-align: top;\n",
       "    }\n",
       "\n",
       "    .dataframe thead th {\n",
       "        text-align: right;\n",
       "    }\n",
       "</style>\n",
       "<table border=\"1\" class=\"dataframe\">\n",
       "  <thead>\n",
       "    <tr style=\"text-align: right;\">\n",
       "      <th></th>\n",
       "      <th>rownames</th>\n",
       "      <th>health</th>\n",
       "      <th>age</th>\n",
       "      <th>limit</th>\n",
       "      <th>gender</th>\n",
       "      <th>insurance</th>\n",
       "      <th>married</th>\n",
       "      <th>selfemp</th>\n",
       "      <th>family</th>\n",
       "      <th>region</th>\n",
       "      <th>ethnicity</th>\n",
       "      <th>education</th>\n",
       "    </tr>\n",
       "  </thead>\n",
       "  <tbody>\n",
       "    <tr>\n",
       "      <th>0</th>\n",
       "      <td>11478456</td>\n",
       "      <td>yes</td>\n",
       "      <td>42</td>\n",
       "      <td>no</td>\n",
       "      <td>male</td>\n",
       "      <td>yes</td>\n",
       "      <td>yes</td>\n",
       "      <td>no</td>\n",
       "      <td>3</td>\n",
       "      <td>west</td>\n",
       "      <td>cauc</td>\n",
       "      <td>highschool</td>\n",
       "    </tr>\n",
       "    <tr>\n",
       "      <th>1</th>\n",
       "      <td>5376530</td>\n",
       "      <td>yes</td>\n",
       "      <td>21</td>\n",
       "      <td>no</td>\n",
       "      <td>female</td>\n",
       "      <td>no</td>\n",
       "      <td>no</td>\n",
       "      <td>no</td>\n",
       "      <td>2</td>\n",
       "      <td>west</td>\n",
       "      <td>cauc</td>\n",
       "      <td>highschool</td>\n",
       "    </tr>\n",
       "    <tr>\n",
       "      <th>2</th>\n",
       "      <td>3720715</td>\n",
       "      <td>yes</td>\n",
       "      <td>22</td>\n",
       "      <td>no</td>\n",
       "      <td>male</td>\n",
       "      <td>no</td>\n",
       "      <td>no</td>\n",
       "      <td>no</td>\n",
       "      <td>3</td>\n",
       "      <td>south</td>\n",
       "      <td>afam</td>\n",
       "      <td>highschool</td>\n",
       "    </tr>\n",
       "    <tr>\n",
       "      <th>3</th>\n",
       "      <td>13670850</td>\n",
       "      <td>yes</td>\n",
       "      <td>56</td>\n",
       "      <td>no</td>\n",
       "      <td>female</td>\n",
       "      <td>yes</td>\n",
       "      <td>no</td>\n",
       "      <td>no</td>\n",
       "      <td>2</td>\n",
       "      <td>midwest</td>\n",
       "      <td>cauc</td>\n",
       "      <td>highschool</td>\n",
       "    </tr>\n",
       "    <tr>\n",
       "      <th>4</th>\n",
       "      <td>7487644</td>\n",
       "      <td>yes</td>\n",
       "      <td>47</td>\n",
       "      <td>no</td>\n",
       "      <td>female</td>\n",
       "      <td>yes</td>\n",
       "      <td>no</td>\n",
       "      <td>no</td>\n",
       "      <td>3</td>\n",
       "      <td>south</td>\n",
       "      <td>cauc</td>\n",
       "      <td>highschool</td>\n",
       "    </tr>\n",
       "  </tbody>\n",
       "</table>\n",
       "</div>"
      ],
      "text/plain": [
       "   rownames health  age limit  gender insurance married selfemp  family  \\\n",
       "0  11478456    yes   42    no    male       yes     yes      no       3   \n",
       "1   5376530    yes   21    no  female        no      no      no       2   \n",
       "2   3720715    yes   22    no    male        no      no      no       3   \n",
       "3  13670850    yes   56    no  female       yes      no      no       2   \n",
       "4   7487644    yes   47    no  female       yes      no      no       3   \n",
       "\n",
       "    region ethnicity   education  \n",
       "0     west      cauc  highschool  \n",
       "1     west      cauc  highschool  \n",
       "2    south      afam  highschool  \n",
       "3  midwest      cauc  highschool  \n",
       "4    south      cauc  highschool  "
      ]
     },
     "metadata": {},
     "output_type": "display_data"
    },
    {
     "name": "stdout",
     "output_type": "stream",
     "text": [
      "Existing gaussian_copula_synth.pkl found — overwriting it.\n",
      "Model saved as gaussian_copula_synth.pkl\n"
     ]
    }
   ],
   "source": [
    "# 3.2 Synthetic Data Generation — GaussianCopula (for SDV ≤ 1.3.x)\n",
    "\n",
    "from sdv.single_table import GaussianCopulaSynthesizer\n",
    "from sdv.metadata import SingleTableMetadata\n",
    "import pandas as pd\n",
    "import os\n",
    "\n",
    "# --- Step 1: Create metadata from the dataframe ---\n",
    "metadata = SingleTableMetadata()\n",
    "metadata.detect_from_dataframe(df)\n",
    "\n",
    "# Check if metadata file already exists\n",
    "metadata_path = \"metadata.json\"\n",
    "if os.path.exists(metadata_path):\n",
    "    print(f\"Existing {metadata_path} found — overwriting it.\")\n",
    "    os.remove(metadata_path)\n",
    "\n",
    "# Save metadata for reproducibility\n",
    "metadata.save_to_json(metadata_path)\n",
    "print(f\"Metadata saved as {metadata_path}\")\n",
    "\n",
    "# --- Step 2: Fit the GaussianCopula model ---\n",
    "gc = GaussianCopulaSynthesizer(metadata)\n",
    "gc.fit(df)\n",
    "print(\"GaussianCopula model trained successfully!\")\n",
    "\n",
    "# --- Step 3: Generate synthetic data ---\n",
    "synthetic_gc = gc.sample(num_rows=len(df))\n",
    "display(synthetic_gc.head())\n",
    "\n",
    "# --- Step 4: Optional — Save the trained model itself ---\n",
    "model_path = \"gaussian_copula_synth.pkl\"\n",
    "if os.path.exists(model_path):\n",
    "    print(f\"Existing {model_path} found — overwriting it.\")\n",
    "    os.remove(model_path)\n",
    "\n",
    "gc.save(model_path)\n",
    "print(f\"Model saved as {model_path}\")\n",
    "\n",
    "# --- Step 5 (optional) — Reload later without retraining ---\n",
    "# gc_loaded = GaussianCopulaSynthesizer.load(model_path)\n",
    "# synthetic_gc = gc_loaded.sample(num_rows=len(df))\n"
   ]
  },
  {
   "cell_type": "code",
   "execution_count": 11,
   "id": "1a345aa4",
   "metadata": {},
   "outputs": [
    {
     "name": "stderr",
     "output_type": "stream",
     "text": [
      "c:\\Users\\fabio\\AppData\\Local\\Programs\\Python\\Python311\\Lib\\site-packages\\sdv\\single_table\\base.py:168: FutureWarning: The 'SingleTableMetadata' is deprecated. Please use the new 'Metadata' class for synthesizers.\n",
      "  warnings.warn(DEPRECATION_MSG, FutureWarning)\n",
      "Gen. (-2.41) | Discrim. (0.20): 100%|██████████| 200/200 [07:13<00:00,  2.17s/it] \n"
     ]
    },
    {
     "data": {
      "text/html": [
       "<div>\n",
       "<style scoped>\n",
       "    .dataframe tbody tr th:only-of-type {\n",
       "        vertical-align: middle;\n",
       "    }\n",
       "\n",
       "    .dataframe tbody tr th {\n",
       "        vertical-align: top;\n",
       "    }\n",
       "\n",
       "    .dataframe thead th {\n",
       "        text-align: right;\n",
       "    }\n",
       "</style>\n",
       "<table border=\"1\" class=\"dataframe\">\n",
       "  <thead>\n",
       "    <tr style=\"text-align: right;\">\n",
       "      <th></th>\n",
       "      <th>rownames</th>\n",
       "      <th>health</th>\n",
       "      <th>age</th>\n",
       "      <th>limit</th>\n",
       "      <th>gender</th>\n",
       "      <th>insurance</th>\n",
       "      <th>married</th>\n",
       "      <th>selfemp</th>\n",
       "      <th>family</th>\n",
       "      <th>region</th>\n",
       "      <th>ethnicity</th>\n",
       "      <th>education</th>\n",
       "    </tr>\n",
       "  </thead>\n",
       "  <tbody>\n",
       "    <tr>\n",
       "      <th>0</th>\n",
       "      <td>11478456</td>\n",
       "      <td>yes</td>\n",
       "      <td>46</td>\n",
       "      <td>yes</td>\n",
       "      <td>male</td>\n",
       "      <td>yes</td>\n",
       "      <td>no</td>\n",
       "      <td>no</td>\n",
       "      <td>5</td>\n",
       "      <td>west</td>\n",
       "      <td>cauc</td>\n",
       "      <td>highschool</td>\n",
       "    </tr>\n",
       "    <tr>\n",
       "      <th>1</th>\n",
       "      <td>5376530</td>\n",
       "      <td>no</td>\n",
       "      <td>41</td>\n",
       "      <td>no</td>\n",
       "      <td>male</td>\n",
       "      <td>yes</td>\n",
       "      <td>yes</td>\n",
       "      <td>no</td>\n",
       "      <td>5</td>\n",
       "      <td>south</td>\n",
       "      <td>cauc</td>\n",
       "      <td>bachelor</td>\n",
       "    </tr>\n",
       "    <tr>\n",
       "      <th>2</th>\n",
       "      <td>3720715</td>\n",
       "      <td>yes</td>\n",
       "      <td>18</td>\n",
       "      <td>yes</td>\n",
       "      <td>male</td>\n",
       "      <td>no</td>\n",
       "      <td>no</td>\n",
       "      <td>no</td>\n",
       "      <td>1</td>\n",
       "      <td>west</td>\n",
       "      <td>cauc</td>\n",
       "      <td>bachelor</td>\n",
       "    </tr>\n",
       "    <tr>\n",
       "      <th>3</th>\n",
       "      <td>13670850</td>\n",
       "      <td>yes</td>\n",
       "      <td>49</td>\n",
       "      <td>no</td>\n",
       "      <td>female</td>\n",
       "      <td>no</td>\n",
       "      <td>yes</td>\n",
       "      <td>yes</td>\n",
       "      <td>3</td>\n",
       "      <td>northeast</td>\n",
       "      <td>cauc</td>\n",
       "      <td>ged</td>\n",
       "    </tr>\n",
       "    <tr>\n",
       "      <th>4</th>\n",
       "      <td>7487644</td>\n",
       "      <td>yes</td>\n",
       "      <td>44</td>\n",
       "      <td>no</td>\n",
       "      <td>female</td>\n",
       "      <td>yes</td>\n",
       "      <td>no</td>\n",
       "      <td>no</td>\n",
       "      <td>4</td>\n",
       "      <td>northeast</td>\n",
       "      <td>cauc</td>\n",
       "      <td>master</td>\n",
       "    </tr>\n",
       "  </tbody>\n",
       "</table>\n",
       "</div>"
      ],
      "text/plain": [
       "   rownames health  age limit  gender insurance married selfemp  family  \\\n",
       "0  11478456    yes   46   yes    male       yes      no      no       5   \n",
       "1   5376530     no   41    no    male       yes     yes      no       5   \n",
       "2   3720715    yes   18   yes    male        no      no      no       1   \n",
       "3  13670850    yes   49    no  female        no     yes     yes       3   \n",
       "4   7487644    yes   44    no  female       yes      no      no       4   \n",
       "\n",
       "      region ethnicity   education  \n",
       "0       west      cauc  highschool  \n",
       "1      south      cauc    bachelor  \n",
       "2       west      cauc    bachelor  \n",
       "3  northeast      cauc         ged  \n",
       "4  northeast      cauc      master  "
      ]
     },
     "metadata": {},
     "output_type": "display_data"
    }
   ],
   "source": [
    "# 3.3 CTGAN\n",
    "ctgan = CTGANSynthesizer(metadata, epochs=200, batch_size=100, verbose=True)\n",
    "ctgan.fit(df)\n",
    "synthetic_ctgan = ctgan.sample(num_rows=len(df))\n",
    "display(synthetic_ctgan.head())"
   ]
  },
  {
   "cell_type": "markdown",
   "id": "9e00b303",
   "metadata": {},
   "source": [
    "# Task IV — Evaluation"
   ]
  },
  {
   "cell_type": "markdown",
   "id": "c25a2c8e",
   "metadata": {},
   "source": [
    "Convert metadata for sdmetrics (single table)"
   ]
  },
  {
   "cell_type": "code",
   "execution_count": 12,
   "id": "8fdd4661",
   "metadata": {},
   "outputs": [],
   "source": [
    "# Convert metadata for sdmetrics (single table)\n",
    "_meta_dict = metadata.to_dict()\n",
    "if \"tables\" in _meta_dict:\n",
    "    _table_name = next(iter(_meta_dict[\"tables\"].keys()))\n",
    "    single_table_meta = _meta_dict[\"tables\"][_table_name]\n",
    "else:\n",
    "    single_table_meta = _meta_dict"
   ]
  },
  {
   "cell_type": "code",
   "execution_count": 13,
   "id": "6e82082f",
   "metadata": {},
   "outputs": [
    {
     "name": "stdout",
     "output_type": "stream",
     "text": [
      "Generating report ...\n",
      "\n",
      "(1/2) Evaluating Column Shapes: |██████████| 12/12 [00:00<00:00, 221.84it/s]|\n",
      "Column Shapes Score: 97.49%\n",
      "\n",
      "(2/2) Evaluating Column Pair Trends: |██████████| 66/66 [00:00<00:00, 177.90it/s]|\n",
      "Column Pair Trends Score: 94.18%\n",
      "\n",
      "Overall Score (Average): 95.83%\n",
      "\n",
      "Generating report ...\n",
      "\n",
      "(1/2) Evaluating Column Shapes: |██████████| 12/12 [00:00<00:00, 338.58it/s]|\n",
      "Column Shapes Score: 87.7%\n",
      "\n",
      "(2/2) Evaluating Column Pair Trends: |██████████| 66/66 [00:00<00:00, 213.61it/s]|\n",
      "Column Pair Trends Score: 78.44%\n",
      "\n",
      "Overall Score (Average): 83.07%\n",
      "\n",
      "Quality — GC: 0.9583293302618436\n",
      "Quality — CTGAN: 0.8307206224142647\n",
      "Generating report ...\n",
      "\n",
      "(1/2) Evaluating Data Validity: |██████████| 12/12 [00:00<00:00, 718.50it/s]|\n",
      "Data Validity Score: 100.0%\n",
      "\n",
      "(2/2) Evaluating Data Structure: |██████████| 1/1 [00:00<00:00, 135.40it/s]|\n",
      "Data Structure Score: 100.0%\n",
      "\n",
      "Overall Score (Average): 100.0%\n",
      "\n",
      "Generating report ...\n",
      "\n",
      "(1/2) Evaluating Data Validity: |██████████| 12/12 [00:00<00:00, 717.49it/s]|\n",
      "Data Validity Score: 100.0%\n",
      "\n",
      "(2/2) Evaluating Data Structure: |██████████| 1/1 [00:00<00:00, 402.56it/s]|\n",
      "Data Structure Score: 100.0%\n",
      "\n",
      "Overall Score (Average): 100.0%\n",
      "\n"
     ]
    }
   ],
   "source": [
    "# 4.1 Quality and Diagnostics\n",
    "qr_gc = QualityReport(); qr_gc.generate(df, synthetic_gc, single_table_meta)\n",
    "qr_ct = QualityReport(); qr_ct.generate(df, synthetic_ctgan, single_table_meta)\n",
    "\n",
    "print(\"Quality — GC:\", qr_gc.get_score())\n",
    "print(\"Quality — CTGAN:\", qr_ct.get_score())\n",
    "\n",
    "dr_gc = DiagnosticReport(); dr_gc.generate(df, synthetic_gc, single_table_meta)\n",
    "dr_ct = DiagnosticReport(); dr_ct.generate(df, synthetic_ctgan, single_table_meta)"
   ]
  },
  {
   "cell_type": "code",
   "execution_count": 14,
   "id": "0ea692f5",
   "metadata": {},
   "outputs": [
    {
     "name": "stdout",
     "output_type": "stream",
     "text": [
      "Correlation RMSE — GC: 0.021453851859544158\n",
      "Correlation RMSE — CTGAN: 0.1407913481601992\n"
     ]
    }
   ],
   "source": [
    "# 4.2 Correlation Preservation\n",
    "def corr_rmse(a, b):\n",
    "    cols = a.select_dtypes(include=np.number).columns.intersection(\n",
    "        b.select_dtypes(include=np.number).columns\n",
    "    )\n",
    "    if len(cols) < 2:\n",
    "        return np.nan\n",
    "    ca, cb = a[cols].corr(), b[cols].corr()\n",
    "    mask = np.triu(np.ones_like(ca, dtype=bool), k=1)\n",
    "    diff = (ca - cb).where(mask)\n",
    "    vals = diff.values[~np.isnan(diff.values)]\n",
    "    return np.sqrt(np.mean(vals**2)) if len(vals) else np.nan\n",
    "\n",
    "print(\"Correlation RMSE — GC:\", corr_rmse(df, synthetic_gc))\n",
    "print(\"Correlation RMSE — CTGAN:\", corr_rmse(df, synthetic_ctgan))"
   ]
  },
  {
   "cell_type": "code",
   "execution_count": 15,
   "id": "4a710681",
   "metadata": {},
   "outputs": [],
   "source": [
    "# 4.3 Utility — TSTR (Train on Synthetic, Test on Real)\n",
    "def tstr_classification(real_df, synth_df, target):\n",
    "    Xs, ys = synth_df.drop(columns=[target]), synth_df[target]\n",
    "    Xr, yr = real_df.drop(columns=[target]), real_df[target]\n",
    "    Xs = Xs.select_dtypes(include=np.number).fillna(Xs.median(numeric_only=True))\n",
    "    Xr = Xr.select_dtypes(include=np.number).fillna(Xr.median(numeric_only=True))\n",
    "    clf = RandomForestClassifier(n_estimators=300, random_state=42)\n",
    "    clf.fit(Xs, ys)\n",
    "    pred = clf.predict(Xr)\n",
    "    out = {\n",
    "        \"accuracy\": accuracy_score(yr, pred),\n",
    "        \"f1_macro\": f1_score(yr, pred, average=\"macro\")\n",
    "    }\n",
    "    if len(clf.classes_) == 2:\n",
    "        out[\"roc_auc\"] = roc_auc_score(yr, clf.predict_proba(Xr)[:, 1])\n",
    "    return out\n",
    "\n",
    "def tstr_regression(real_df, synth_df, target):\n",
    "    Xs, ys = synth_df.drop(columns=[target]), synth_df[target]\n",
    "    Xr, yr = real_df.drop(columns=[target]), real_df[target]\n",
    "    Xs = Xs.select_dtypes(include=np.number).fillna(Xs.median(numeric_only=True))\n",
    "    Xr = Xr.select_dtypes(include=np.number).fillna(Xr.median(numeric_only=True))\n",
    "    reg = RandomForestRegressor(n_estimators=400, random_state=42)\n",
    "    reg.fit(Xs, ys)\n",
    "    pred = reg.predict(Xr)\n",
    "    return {\"r2\": r2_score(yr, pred), \"mae\": mean_absolute_error(yr, pred)}\n",
    "\n",
    "# Example (uncomment and set target column)\n",
    "# print(tstr_classification(df, synthetic_gc, \"your_target\"))\n",
    "# print(tstr_classification(df, synthetic_ctgan, \"your_target\"))"
   ]
  },
  {
   "cell_type": "code",
   "execution_count": 16,
   "id": "c0a6ae01",
   "metadata": {},
   "outputs": [
    {
     "name": "stdout",
     "output_type": "stream",
     "text": [
      "Duplication rate — GC: 0.0\n",
      "Duplication rate — CTGAN: 0.0\n"
     ]
    }
   ],
   "source": [
    "# 4.4 Privacy — exact duplicates\n",
    "def exact_dup_rate(real_df, synth_df):\n",
    "    r = real_df.astype(str).agg(\"|\".join, axis=1)\n",
    "    s = synth_df.astype(str).agg(\"|\".join, axis=1)\n",
    "    return len(set(r) & set(s)) / max(1, len(s))\n",
    "\n",
    "print(\"Duplication rate — GC:\", exact_dup_rate(df, synthetic_gc))\n",
    "print(\"Duplication rate — CTGAN:\", exact_dup_rate(df, synthetic_ctgan))"
   ]
  },
  {
   "cell_type": "markdown",
   "id": "acf09fbe",
   "metadata": {},
   "source": [
    "## # Refined BC2 Content for Jupyter Notebook"
   ]
  },
  {
   "cell_type": "markdown",
   "id": "96d70b8f",
   "metadata": {},
   "source": [
    "### BC2.I - HDFS and PySpark Setup"
   ]
  },
  {
   "cell_type": "code",
   "execution_count": 17,
   "id": "b22fff8f",
   "metadata": {},
   "outputs": [],
   "source": [
    "# Imports (Ensure all necessary PySpark and system imports are here)\n",
    "import os, time\n",
    "from pyspark.sql import SparkSession\n",
    "from pyspark.sql import functions as F\n",
    "from py4j.java_gateway import java_import\n",
    "\n",
    "# ------------------------------------------------------------------"
   ]
  },
  {
   "cell_type": "markdown",
   "id": "caf23deb",
   "metadata": {},
   "source": [
    "**Objective**\n",
    "\n",
    "Initialize Spark and verify HDFS connectivity for Big Data processing."
   ]
  },
  {
   "cell_type": "markdown",
   "id": "00044001",
   "metadata": {},
   "source": [
    "**Execution**\n",
    "\n",
    "Configure the environment variables and create a SparkSession"
   ]
  },
  {
   "cell_type": "code",
   "execution_count": 18,
   "id": "ce64c9ab",
   "metadata": {},
   "outputs": [
    {
     "name": "stdout",
     "output_type": "stream",
     "text": [
      "Using HDFS URI: hdfs://hadoop-VirtualBox:9000\n",
      "fs.defaultFS = hdfs://hadoop-VirtualBox:9000\n",
      "HDFS effective user: hadoop\n"
     ]
    }
   ],
   "source": [
    "try:\n",
    "    spark.stop()\n",
    "except:\n",
    "    pass\n",
    "os.environ[\"HADOOP_USER_NAME\"] = \"hadoop\"\n",
    "time.sleep(1) # Allow time for environment variable to set\n",
    "\n",
    "\n",
    "NN_HOST = \"hadoop-VirtualBox\"\n",
    "NN_PORT = \"9000\"\n",
    "HDFS_URI = f\"hdfs://{NN_HOST}:{NN_PORT}\"\n",
    "DATA_DIR = \"/data/tlc/trips\"\n",
    "HDFS_PARQUET = f\"{DATA_DIR}/yellow_tripdata_2023-05.parquet\"\n",
    "CSV_BASE_DIR = \"/user/hadoop/taxi\"\n",
    "\n",
    "\n",
    "spark = (SparkSession.builder\n",
    "         .appName(\"BC2_AdvancedDataAnalytics\")\n",
    "         .config(\"spark.hadoop.fs.defaultFS\", HDFS_URI)\n",
    "         .getOrCreate())\n",
    "\n",
    "sc = spark.sparkContext\n",
    "\n",
    "\n",
    "print(\"Using HDFS URI:\", HDFS_URI)\n",
    "print(\"fs.defaultFS =\", spark._jsc.hadoopConfiguration().get(\"fs.defaultFS\"))\n",
    "ugi = spark._jvm.org.apache.hadoop.security.UserGroupInformation.getCurrentUser().getShortUserName()\n",
    "print(\"HDFS effective user:\", ugi)"
   ]
  },
  {
   "cell_type": "markdown",
   "id": "6e644ee7",
   "metadata": {},
   "source": [
    "**Justification**\n",
    "\n",
    "This setup is critical for all subsequent tasks, establishing the"
   ]
  },
  {
   "cell_type": "markdown",
   "id": "7092f64e",
   "metadata": {},
   "source": [
    "**Objective**\n",
    "\n",
    "Load the NYC Taxi Trip dataset from HDFS."
   ]
  },
  {
   "cell_type": "markdown",
   "id": "7295ede7",
   "metadata": {},
   "source": [
    "**Execution**\n",
    "\n",
    "Read the Parquet file directly from the HDFS path. (this execution may take few minutes - be patient!)"
   ]
  },
  {
   "cell_type": "code",
   "execution_count": 19,
   "id": "f7f3f43b",
   "metadata": {},
   "outputs": [],
   "source": [
    "df = spark.read.parquet(HDFS_PARQUET)"
   ]
  },
  {
   "cell_type": "markdown",
   "id": "a14ca009",
   "metadata": {},
   "source": [
    "**Justification**\n",
    "\n",
    "Parquet is an optimized columnar format suitable for"
   ]
  },
  {
   "cell_type": "markdown",
   "id": "faa6eff3",
   "metadata": {},
   "source": [
    "**Objective**\n",
    "\n",
    "Perform initial PySpark data inspection."
   ]
  },
  {
   "cell_type": "markdown",
   "id": "1ba4dc07",
   "metadata": {},
   "source": [
    "**Execution**\n",
    "\n",
    "Display schema, row count, and basic descriptive statistics."
   ]
  },
  {
   "cell_type": "code",
   "execution_count": 20,
   "id": "df7a3fc7",
   "metadata": {},
   "outputs": [
    {
     "name": "stdout",
     "output_type": "stream",
     "text": [
      "--- Schema and Row Count ---\n",
      "root\n",
      " |-- VendorID: integer (nullable = true)\n",
      " |-- tpep_pickup_datetime: timestamp_ntz (nullable = true)\n",
      " |-- tpep_dropoff_datetime: timestamp_ntz (nullable = true)\n",
      " |-- passenger_count: long (nullable = true)\n",
      " |-- trip_distance: double (nullable = true)\n",
      " |-- RatecodeID: long (nullable = true)\n",
      " |-- store_and_fwd_flag: string (nullable = true)\n",
      " |-- PULocationID: integer (nullable = true)\n",
      " |-- DOLocationID: integer (nullable = true)\n",
      " |-- payment_type: long (nullable = true)\n",
      " |-- fare_amount: double (nullable = true)\n",
      " |-- extra: double (nullable = true)\n",
      " |-- mta_tax: double (nullable = true)\n",
      " |-- tip_amount: double (nullable = true)\n",
      " |-- tolls_amount: double (nullable = true)\n",
      " |-- improvement_surcharge: double (nullable = true)\n",
      " |-- total_amount: double (nullable = true)\n",
      " |-- congestion_surcharge: double (nullable = true)\n",
      " |-- Airport_fee: double (nullable = true)\n",
      "\n",
      "Total Records: 3,513,649\n",
      "\n",
      "--- Basic Statistics (Fare and Distance) ---\n",
      "+-------+------------------+-----------------+------------------+\n",
      "|summary|       fare_amount|    trip_distance|   passenger_count|\n",
      "+-------+------------------+-----------------+------------------+\n",
      "|  count|           3513649|          3513649|           3411853|\n",
      "|   mean|19.876870953812592|4.345816124490241|1.3587997489927028|\n",
      "| stddev|19.208607911442844|293.3984069034934|0.8796107632444139|\n",
      "|    min|            -870.0|              0.0|                 0|\n",
      "|    max|            6300.9|        342344.85|                 9|\n",
      "+-------+------------------+-----------------+------------------+\n",
      "\n"
     ]
    }
   ],
   "source": [
    "print(\"--- Schema and Row Count ---\")\n",
    "df.printSchema()\n",
    "print(f\"Total Records: {df.count():,}\")\n",
    "\n",
    "print(\"\\n--- Basic Statistics (Fare and Distance) ---\")\n",
    "df.select(\"fare_amount\", \"trip_distance\", \"passenger_count\").describe().show()"
   ]
  },
  {
   "cell_type": "markdown",
   "id": "034a8f30",
   "metadata": {},
   "source": [
    "**Justification**\n",
    "\n",
    "Initial inspection confirms data integrity, schema correctness,"
   ]
  },
  {
   "cell_type": "markdown",
   "id": "a98176af",
   "metadata": {},
   "source": [
    "**Objective**\n",
    "\n",
    "Prepare a minimal CSV file for the MapReduce task."
   ]
  },
  {
   "cell_type": "markdown",
   "id": "e7b9254d",
   "metadata": {},
   "source": [
    "**Execution**\n",
    "\n",
    "Select only 'PULocationID' and 'fare_amount', filter out nulls,"
   ]
  },
  {
   "cell_type": "code",
   "execution_count": 21,
   "id": "036e5f9b",
   "metadata": {},
   "outputs": [
    {
     "name": "stdout",
     "output_type": "stream",
     "text": [
      " Minimal CSV for MapReduce written to: hdfs://hadoop-VirtualBox:9000/user/hadoop/taxi/yellow_2023-05_mincsv\n",
      "\n",
      "Sample of prepared MapReduce input:\n",
      "+------------+-----------+\n",
      "|PULocationID|fare_amount|\n",
      "+------------+-----------+\n",
      "|138         |33.8       |\n",
      "|138         |35.9       |\n",
      "|138         |35.2       |\n",
      "|138         |33.1       |\n",
      "|138         |31.0       |\n",
      "+------------+-----------+\n",
      "only showing top 5 rows\n",
      "\n"
     ]
    }
   ],
   "source": [
    "OUT_DIR  = f\"{HDFS_URI}{CSV_BASE_DIR}/yellow_2023-05_mincsv\"\n",
    "\n",
    "min_df = (df\n",
    "    .select(\"PULocationID\", \"fare_amount\")\n",
    "    .where(F.col(\"PULocationID\").isNotNull() & F.col(\"fare_amount\").isNotNull())\n",
    ")\n",
    "\n",
    "(min_df.coalesce(1)\n",
    "      .write.mode(\"overwrite\")\n",
    "      .option(\"header\", \"false\")\n",
    "      .csv(OUT_DIR))\n",
    "\n",
    "print(f\" Minimal CSV for MapReduce written to: {OUT_DIR}\")\n",
    "\n",
    "\n",
    "preview = (spark.read\n",
    "    .option(\"header\", \"false\")\n",
    "    .csv(OUT_DIR)\n",
    "    .toDF(\"PULocationID\",\"fare_amount_raw\")\n",
    "    .select(F.col(\"PULocationID\").cast(\"int\"),\n",
    "            F.col(\"fare_amount_raw\").cast(\"double\").alias(\"fare_amount\"))\n",
    ")\n",
    "print(\"\\nSample of prepared MapReduce input:\")\n",
    "preview.show(5, truncate=False)"
   ]
  },
  {
   "cell_type": "markdown",
   "id": "6c2c1136",
   "metadata": {},
   "source": [
    "**Justification**\n",
    "\n",
    "This step fulfills the requirement to prepare data for the"
   ]
  },
  {
   "cell_type": "markdown",
   "id": "fb8d0a47",
   "metadata": {},
   "source": [
    "### BC2.II - Hadoop Streaming / MapReduce"
   ]
  },
  {
   "cell_type": "code",
   "execution_count": 22,
   "id": "e5e01ff4",
   "metadata": {},
   "outputs": [],
   "source": [
    "# ------------------------------------------------------------------"
   ]
  },
  {
   "cell_type": "markdown",
   "id": "3d0aafbd",
   "metadata": {},
   "source": [
    "**Objective**\n",
    "\n",
    "Define the Python Mapper and Reducer scripts for Hadoop Streaming."
   ]
  },
  {
   "cell_type": "markdown",
   "id": "eb47194a",
   "metadata": {},
   "source": [
    "**Execution**\n",
    "\n",
    "The scripts are defined as multi-line strings and saved to the"
   ]
  },
  {
   "cell_type": "code",
   "execution_count": 23,
   "id": "9e7759b0",
   "metadata": {},
   "outputs": [
    {
     "name": "stdout",
     "output_type": "stream",
     "text": [
      "mapper.py and reducer.py saved locally for transfer to the Hadoop VM.\n"
     ]
    }
   ],
   "source": [
    "mapper_content = r\"\"\"#!/usr/bin/env python3\n",
    "import sys\n",
    "\n",
    "\n",
    "for line in sys.stdin:\n",
    "    line = line.strip()\n",
    "    if not line:\n",
    "        continue\n",
    "    \n",
    "    # Input is a comma-separated line (PULocationID,fare_amount)\n",
    "    parts = line.split(',')\n",
    "    if len(parts) < 2:\n",
    "        continue\n",
    "        \n",
    "    pul, fare = parts[0].strip(), parts[1].strip()\n",
    "    \n",
    "    try:\n",
    "        # Ensure fare is a valid number\n",
    "        f = float(fare)\n",
    "    except ValueError:\n",
    "        continue\n",
    "        \n",
    "    # Output: PULocationID \\t fare_amount\n",
    "    print(f\"{pul}\\t{f}\")\n",
    "\"\"\"\n",
    "\n",
    "reducer_content = r\"\"\"#!/usr/bin/env python3\n",
    "import sys\n",
    "from collections import defaultdict\n",
    "\n",
    "\n",
    "current_pul = None\n",
    "current_total_fare = 0.0\n",
    "\n",
    "\n",
    "for line in sys.stdin:\n",
    "    line = line.strip()\n",
    "    if not line:\n",
    "        continue\n",
    "    \n",
    "    try:\n",
    "        pul, fare_str = line.split('\\t', 1)\n",
    "        fare = float(fare_str)\n",
    "    except ValueError:\n",
    "        # Skip bad records\n",
    "        continue\n",
    "    \n",
    "    if current_pul == pul:\n",
    "        # Accumulate fare for the current key\n",
    "        current_total_fare += fare\n",
    "    else:\n",
    "        if current_pul:\n",
    "            # Output the result for the previous key\n",
    "            print(f\"{current_pul}\\t{current_total_fare}\")\n",
    "        \n",
    "        # Start new key\n",
    "        current_pul = pul\n",
    "        current_total_fare = fare\n",
    "\n",
    "\n",
    "if current_pul:\n",
    "    print(f\"{current_pul}\\t{current_total_fare}\")\n",
    "\"\"\"\n",
    "\n",
    "\n",
    "with open(\"mapper.py\", \"w\", encoding=\"utf-8\") as f:\n",
    "    f.write(mapper_content)\n",
    "with open(\"reducer.py\", \"w\", encoding=\"utf-8\") as f:\n",
    "    f.write(reducer_content)\n",
    "\n",
    "print(\"mapper.py and reducer.py saved locally for transfer to the Hadoop VM.\")"
   ]
  },
  {
   "cell_type": "markdown",
   "id": "52aaaeaf",
   "metadata": {},
   "source": [
    "**Justification**\n",
    "\n",
    "The MapReduce paradigm is a foundational concept in Big Data."
   ]
  },
  {
   "cell_type": "markdown",
   "id": "afde07cc",
   "metadata": {},
   "source": [
    "**Objective**\n",
    "\n",
    "Provide the execution command and discuss limitations."
   ]
  },
  {
   "cell_type": "markdown",
   "id": "ef92b990",
   "metadata": {},
   "source": [
    "**Execution**\n",
    "\n",
    "The following command is executed on the Hadoop VM's shell."
   ]
  },
  {
   "cell_type": "code",
   "execution_count": 24,
   "id": "54badfe3",
   "metadata": {},
   "outputs": [
    {
     "name": "stdout",
     "output_type": "stream",
     "text": [
      "\n",
      "--- Hadoop Streaming Execution Command (Run on Hadoop VM) ---\n",
      "\n",
      "# 1. Transfer scripts to the Hadoop VM\n",
      "# scp mapper.py reducer.py hadoop@hadoop-VirtualBox:~/\n",
      "\n",
      "# 2. Execute the MapReduce job via Hadoop Streaming\n",
      "# Note: The input is the single-shard CSV created in BC2.I\n",
      "hdfs dfs -cat /user/hadoop/taxi/yellow_2023-05_mincsv/part-* | \\\n",
      "  python3 mapper.py | sort | python3 reducer.py > total_fare_by_pu.txt\n",
      "\n",
      "# 3. View a partial output\n",
      "# head total_fare_by_pu.txt\n",
      "\n"
     ]
    }
   ],
   "source": [
    "print(\"\\n--- Hadoop Streaming Execution Command (Run on Hadoop VM) ---\")\n",
    "print(f\"\"\"\n",
    "# 1. Transfer scripts to the Hadoop VM\n",
    "# scp mapper.py reducer.py hadoop@hadoop-VirtualBox:~/\n",
    "\n",
    "# 2. Execute the MapReduce job via Hadoop Streaming\n",
    "# Note: The input is the single-shard CSV created in BC2.I\n",
    "hdfs dfs -cat {CSV_BASE_DIR}/yellow_2023-05_mincsv/part-* | \\\\\n",
    "  python3 mapper.py | sort | python3 reducer.py > total_fare_by_pu.txt\n",
    "\n",
    "# 3. View a partial output\n",
    "# head total_fare_by_pu.txt\n",
    "\"\"\")"
   ]
  },
  {
   "cell_type": "markdown",
   "id": "a2c903dd",
   "metadata": {},
   "source": [
    "**Justification**\n",
    "\n",
    "# The MapReduce model requires explicit sorting and grouping, which is"
   ]
  },
  {
   "cell_type": "markdown",
   "id": "c247cbbe",
   "metadata": {},
   "source": [
    "### BC2.III - Frequent Pattern Mining (FPGrowth)"
   ]
  },
  {
   "cell_type": "code",
   "execution_count": 25,
   "id": "b0362397",
   "metadata": {},
   "outputs": [],
   "source": [
    "# ------------------------------------------------------------------"
   ]
  },
  {
   "cell_type": "markdown",
   "id": "a5b84be5",
   "metadata": {},
   "source": [
    "**Objective**\n",
    "\n",
    "Identify frequent travel patterns using the FPGrowth algorithm."
   ]
  },
  {
   "cell_type": "markdown",
   "id": "681caaf5",
   "metadata": {},
   "source": [
    "**Execution**\n",
    "\n",
    "Create \"baskets\" of categorical items (PU and DO Location IDs)"
   ]
  },
  {
   "cell_type": "code",
   "execution_count": 26,
   "id": "04c414d7",
   "metadata": {},
   "outputs": [
    {
     "name": "stdout",
     "output_type": "stream",
     "text": [
      "Total valid trips for FPGrowth: 3,317,060\n",
      "\n",
      "--- Top 10 Frequent Itemsets (Travel Pairs) ---\n",
      "+-----+------+\n",
      "|items|freq  |\n",
      "+-----+------+\n",
      "|[237]|295042|\n",
      "|[161]|284959|\n",
      "|[236]|280498|\n",
      "|[142]|213921|\n",
      "|[162]|212060|\n",
      "|[132]|210459|\n",
      "|[230]|208936|\n",
      "|[170]|197363|\n",
      "|[163]|186855|\n",
      "|[239]|185558|\n",
      "+-----+------+\n",
      "\n",
      "\n",
      "--- Top 10 Association Rules (Travel Flow) ---\n",
      "+----------+----------+----------+----+-------+\n",
      "|antecedent|consequent|confidence|lift|support|\n",
      "+----------+----------+----------+----+-------+\n",
      "+----------+----------+----------+----+-------+\n",
      "\n"
     ]
    }
   ],
   "source": [
    "from pyspark.ml.fpm import FPGrowth\n",
    "from pyspark.sql.functions import col, lit\n",
    "\n",
    "\n",
    "\n",
    "\n",
    "baskets_df = df.select(\n",
    "    col(\"PULocationID\").cast(\"string\").alias(\"PU\"),\n",
    "    col(\"DOLocationID\").cast(\"string\").alias(\"DO\")\n",
    ").where(col(\"PU\") != col(\"DO\"))\n",
    "\n",
    "\n",
    "baskets_df = baskets_df.withColumn(\"items\", F.array(\"PU\", \"DO\")).select(\"items\")\n",
    "print(f\"Total valid trips for FPGrowth: {baskets_df.count():,}\")\n",
    "\n",
    "\n",
    "\n",
    "fp_model = FPGrowth(itemsCol=\"items\", minSupport=0.005, minConfidence=0.5).fit(baskets_df)\n",
    "\n",
    "\n",
    "print(\"\\n--- Top 10 Frequent Itemsets (Travel Pairs) ---\")\n",
    "fp_model.freqItemsets.sort(col(\"freq\").desc()).limit(10).show(truncate=False)\n",
    "\n",
    "\n",
    "print(\"\\n--- Top 10 Association Rules (Travel Flow) ---\")\n",
    "rules = fp_model.associationRules.sort(col(\"confidence\").desc(), col(\"lift\").desc()).limit(10)\n",
    "rules.show(truncate=False)"
   ]
  },
  {
   "cell_type": "markdown",
   "id": "25517ee4",
   "metadata": {},
   "source": [
    "**Justification**\n",
    "\n",
    "FPGrowth efficiently mines the large dataset for non-trivial"
   ]
  },
  {
   "cell_type": "markdown",
   "id": "f14e204b",
   "metadata": {},
   "source": [
    "**Objective**\n",
    "\n",
    "Interpret the FPGrowth results as urban mobility insights."
   ]
  },
  {
   "cell_type": "markdown",
   "id": "87069f2a",
   "metadata": {},
   "source": [
    "### BC2.IV - Rider Segmentation (K-Means Clustering)"
   ]
  },
  {
   "cell_type": "code",
   "execution_count": 27,
   "id": "0893923c",
   "metadata": {},
   "outputs": [],
   "source": [
    "# ------------------------------------------------------------------"
   ]
  },
  {
   "cell_type": "markdown",
   "id": "30c12f0c",
   "metadata": {},
   "source": [
    "**Objective**\n",
    "\n",
    "Segment taxi trips based on key ride characteristics using K-Means."
   ]
  },
  {
   "cell_type": "markdown",
   "id": "f7a830f7",
   "metadata": {},
   "source": [
    "**Execution**\n",
    "\n",
    "Use PySpark MLlib's VectorAssembler and StandardScaler to prepare"
   ]
  },
  {
   "cell_type": "code",
   "execution_count": 28,
   "id": "a3c925f1",
   "metadata": {},
   "outputs": [
    {
     "name": "stdout",
     "output_type": "stream",
     "text": [
      "Records for Clustering: 3,411,853\n",
      "\n",
      "--- K-Means Cluster Analysis (Mean of Original Features) ---\n",
      "+----------+-----------------+------------------+------------------+-------+\n",
      "|prediction|     avg_distance|          avg_fare|          avg_hour|  count|\n",
      "+----------+-----------------+------------------+------------------+-------+\n",
      "|         0|3.339357349715017|18.877482241965797| 8.544419208254975|1264498|\n",
      "|         1|3.599065556347686|20.176887209884228|18.215740260206502|1894111|\n",
      "|         2|5.002803383298306| 21.14213446320514|15.093850199807301| 253244|\n",
      "+----------+-----------------+------------------+------------------+-------+\n",
      "\n"
     ]
    }
   ],
   "source": [
    "from pyspark.ml.feature import VectorAssembler, StandardScaler\n",
    "from pyspark.ml.clustering import KMeans\n",
    "from pyspark.sql.functions import hour\n",
    "\n",
    "\n",
    "\n",
    "df_clust = df.withColumn(\"pickup_hour\", hour(col(\"tpep_pickup_datetime\")))\n",
    "\n",
    "\n",
    "features = [\"trip_distance\", \"fare_amount\", \"pickup_hour\", \"passenger_count\"]\n",
    "df_clust = df_clust.select(*features).na.drop()\n",
    "print(f\"Records for Clustering: {df_clust.count():,}\")\n",
    "\n",
    "\n",
    "assembler = VectorAssembler(inputCols=features, outputCol=\"features_raw\")\n",
    "df_clust = assembler.transform(df_clust)\n",
    "\n",
    "\n",
    "scaler = StandardScaler(inputCol=\"features_raw\", outputCol=\"features\", withStd=True, withMean=False)\n",
    "scaler_model = scaler.fit(df_clust)\n",
    "df_clust = scaler_model.transform(df_clust)\n",
    "\n",
    "\n",
    "\n",
    "kmeans = KMeans(featuresCol=\"features\", k=3, seed=42)\n",
    "kmeans_model = kmeans.fit(df_clust)\n",
    "\n",
    "\n",
    "centers = kmeans_model.clusterCenters()\n",
    "df_clust = kmeans_model.transform(df_clust)\n",
    "\n",
    "\n",
    "\n",
    "\n",
    "\n",
    "\n",
    "cluster_analysis = df_clust.groupBy(\"prediction\").agg(\n",
    "    F.mean(\"trip_distance\").alias(\"avg_distance\"),\n",
    "    F.mean(\"fare_amount\").alias(\"avg_fare\"),\n",
    "    F.mean(\"pickup_hour\").alias(\"avg_hour\"),\n",
    "    F.count(\"*\").alias(\"count\")\n",
    ").sort(\"prediction\")\n",
    "\n",
    "print(\"\\n--- K-Means Cluster Analysis (Mean of Original Features) ---\")\n",
    "cluster_analysis.show()"
   ]
  },
  {
   "cell_type": "markdown",
   "id": "e5b1c07f",
   "metadata": {},
   "source": [
    "**Justification**\n",
    "\n",
    "K-Means is an effective method for unsupervised segmentation."
   ]
  },
  {
   "cell_type": "markdown",
   "id": "b1ef3459",
   "metadata": {},
   "source": [
    "**Objective**\n",
    "\n",
    "Interpret the cluster centers as rider personas and suggest implications."
   ]
  },
  {
   "cell_type": "markdown",
   "id": "13d47bc9",
   "metadata": {},
   "source": [
    "### Business Insight & Reporting"
   ]
  },
  {
   "cell_type": "code",
   "execution_count": 29,
   "id": "3bb25c06",
   "metadata": {},
   "outputs": [],
   "source": [
    "# ------------------------------------------------------------------"
   ]
  },
  {
   "cell_type": "markdown",
   "id": "9553d0fa",
   "metadata": {},
   "source": [
    "**Objective**\n",
    "\n",
    "Summarize how Big Data mining supports strategic decisions."
   ]
  },
  {
   "cell_type": "markdown",
   "id": "5a1e3ac4",
   "metadata": {},
   "source": [
    "**Summary**\n",
    "\n",
    "# The analysis of NYC taxi data using PySpark and Hadoop provides actionable"
   ]
  },
  {
   "cell_type": "markdown",
   "id": "b3e8d941",
   "metadata": {},
   "source": [
    "The analysis of NYC taxi data using PySpark and Hadoop provides actionable, prescriptive insights that guide where, when, and how to operate. MapReduce identifies zones and time windows with the highest demand and revenue, enabling the company to optimize driver allocation and shift scheduling for maximum coverage and profitability. FPGrowth reveals repeatable travel patterns — for instance, frequent evening trips from downtown to the airport — which supports proactive car positioning, dynamic pricing, and targeted promotions that match predicted passenger flows.\n",
    "\n",
    "K-Means clustering segments trips into operational profiles such as short urban rides, airport transfers, and family trips, allowing management to design specific service strategies for each segment (e.g., shared rides, premium flat-rate transfers, family-friendly vehicles). Together, these models not only describe what has happened but also prescribe what to do next — where to send drivers, which routes to prioritize, and how to adapt pricing in real time. In practice, this translates into higher efficiency, shorter wait times, and stronger margins, turning large-scale data mining into a true decision engine for strategic advantage"
   ]
  }
 ],
 "metadata": {
  "kernelspec": {
   "display_name": "Python 3",
   "language": "python",
   "name": "python3"
  },
  "language_info": {
   "codemirror_mode": {
    "name": "ipython",
    "version": 3
   },
   "file_extension": ".py",
   "mimetype": "text/x-python",
   "name": "python",
   "nbconvert_exporter": "python",
   "pygments_lexer": "ipython3",
   "version": "3.11.9"
  }
 },
 "nbformat": 4,
 "nbformat_minor": 5
}
